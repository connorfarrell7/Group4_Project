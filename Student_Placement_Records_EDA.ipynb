{
  "nbformat": 4,
  "nbformat_minor": 0,
  "metadata": {
    "colab": {
      "name": "Student Placement Records EDA.ipynb",
      "provenance": [],
      "authorship_tag": "ABX9TyPKN/rcmbb+1G6i6kdWRcYa",
      "include_colab_link": true
    },
    "kernelspec": {
      "name": "python3",
      "display_name": "Python 3"
    },
    "language_info": {
      "name": "python"
    }
  },
  "cells": [
    {
      "cell_type": "markdown",
      "metadata": {
        "id": "view-in-github",
        "colab_type": "text"
      },
      "source": [
        "<a href=\"https://colab.research.google.com/github/connorfarrell7/Predicting_Placements_for_Engineering_Students/blob/mmetwalli96/Student_Placement_Records_EDA.ipynb\" target=\"_parent\"><img src=\"https://colab.research.google.com/assets/colab-badge.svg\" alt=\"Open In Colab\"/></a>"
      ]
    },
    {
      "cell_type": "code",
      "metadata": {
        "colab": {
          "base_uri": "https://localhost:8080/"
        },
        "id": "P4nHstyl8ua0",
        "outputId": "62f2943f-7470-45ed-c6a9-42f2928a102b"
      },
      "source": [
        "# Importing dependencies\n",
        "import psycopg2\n",
        "import getpass\n",
        "import pandas as pd"
      ],
      "execution_count": 1,
      "outputs": [
        {
          "output_type": "stream",
          "name": "stderr",
          "text": [
            "/usr/local/lib/python3.7/dist-packages/psycopg2/__init__.py:144: UserWarning: The psycopg2 wheel package will be renamed from release 2.8; in order to keep installing from binary please use \"pip install psycopg2-binary\" instead. For details see: <http://initd.org/psycopg/docs/install.html#binary-install-from-pypi>.\n",
            "  \"\"\")\n"
          ]
        }
      ]
    },
    {
      "cell_type": "code",
      "metadata": {
        "colab": {
          "base_uri": "https://localhost:8080/"
        },
        "id": "lenvjbP09MvJ",
        "outputId": "bf93e75c-5cac-4dc1-d3c3-e206a54d67d0"
      },
      "source": [
        "# Connect to the database\n",
        "server_pass = getpass.getpass('Enter database password: ')\n",
        "engine = psycopg2.connect(\n",
        "    database=\"postgres\",\n",
        "    user=\"group_4\",\n",
        "    password=server_pass,\n",
        "    host=\"capstone-project.c9uk6piofxnr.us-east-2.rds.amazonaws.com\",\n",
        "    port='5432'\n",
        ")"
      ],
      "execution_count": 2,
      "outputs": [
        {
          "name": "stdout",
          "output_type": "stream",
          "text": [
            "Enter database password: ··········\n"
          ]
        }
      ]
    },
    {
      "cell_type": "code",
      "metadata": {
        "colab": {
          "base_uri": "https://localhost:8080/",
          "height": 203
        },
        "id": "iqlAD9rI9eGI",
        "outputId": "433f2f5a-4510-486e-8c78-915f033b950f"
      },
      "source": [
        "# Importing the data from the databse \n",
        "sql = \"select * from student_data\"\n",
        "student_records_df = pd.read_sql_query(sql, engine)\n",
        "student_records_df.head()"
      ],
      "execution_count": 3,
      "outputs": [
        {
          "output_type": "execute_result",
          "data": {
            "text/html": [
              "<div>\n",
              "<style scoped>\n",
              "    .dataframe tbody tr th:only-of-type {\n",
              "        vertical-align: middle;\n",
              "    }\n",
              "\n",
              "    .dataframe tbody tr th {\n",
              "        vertical-align: top;\n",
              "    }\n",
              "\n",
              "    .dataframe thead th {\n",
              "        text-align: right;\n",
              "    }\n",
              "</style>\n",
              "<table border=\"1\" class=\"dataframe\">\n",
              "  <thead>\n",
              "    <tr style=\"text-align: right;\">\n",
              "      <th></th>\n",
              "      <th>age</th>\n",
              "      <th>gender</th>\n",
              "      <th>stream</th>\n",
              "      <th>internships</th>\n",
              "      <th>cgpa</th>\n",
              "      <th>hostel</th>\n",
              "      <th>history_of_backlogs</th>\n",
              "      <th>placed_or_not</th>\n",
              "      <th>id</th>\n",
              "    </tr>\n",
              "  </thead>\n",
              "  <tbody>\n",
              "    <tr>\n",
              "      <th>0</th>\n",
              "      <td>22</td>\n",
              "      <td>Male</td>\n",
              "      <td>Electronics And Communication</td>\n",
              "      <td>1</td>\n",
              "      <td>8</td>\n",
              "      <td>1</td>\n",
              "      <td>1</td>\n",
              "      <td>1</td>\n",
              "      <td>1</td>\n",
              "    </tr>\n",
              "    <tr>\n",
              "      <th>1</th>\n",
              "      <td>21</td>\n",
              "      <td>Female</td>\n",
              "      <td>Computer Science</td>\n",
              "      <td>0</td>\n",
              "      <td>7</td>\n",
              "      <td>1</td>\n",
              "      <td>1</td>\n",
              "      <td>1</td>\n",
              "      <td>2</td>\n",
              "    </tr>\n",
              "    <tr>\n",
              "      <th>2</th>\n",
              "      <td>22</td>\n",
              "      <td>Female</td>\n",
              "      <td>Information Technology</td>\n",
              "      <td>1</td>\n",
              "      <td>6</td>\n",
              "      <td>0</td>\n",
              "      <td>0</td>\n",
              "      <td>1</td>\n",
              "      <td>3</td>\n",
              "    </tr>\n",
              "    <tr>\n",
              "      <th>3</th>\n",
              "      <td>21</td>\n",
              "      <td>Male</td>\n",
              "      <td>Information Technology</td>\n",
              "      <td>0</td>\n",
              "      <td>8</td>\n",
              "      <td>0</td>\n",
              "      <td>1</td>\n",
              "      <td>1</td>\n",
              "      <td>4</td>\n",
              "    </tr>\n",
              "    <tr>\n",
              "      <th>4</th>\n",
              "      <td>22</td>\n",
              "      <td>Male</td>\n",
              "      <td>Mechanical</td>\n",
              "      <td>0</td>\n",
              "      <td>8</td>\n",
              "      <td>1</td>\n",
              "      <td>0</td>\n",
              "      <td>1</td>\n",
              "      <td>5</td>\n",
              "    </tr>\n",
              "  </tbody>\n",
              "</table>\n",
              "</div>"
            ],
            "text/plain": [
              "   age  gender  ... placed_or_not  id\n",
              "0   22    Male  ...             1   1\n",
              "1   21  Female  ...             1   2\n",
              "2   22  Female  ...             1   3\n",
              "3   21    Male  ...             1   4\n",
              "4   22    Male  ...             1   5\n",
              "\n",
              "[5 rows x 9 columns]"
            ]
          },
          "metadata": {},
          "execution_count": 3
        }
      ]
    },
    {
      "cell_type": "code",
      "metadata": {
        "colab": {
          "base_uri": "https://localhost:8080/",
          "height": 418
        },
        "id": "fSmJ54lo9jVH",
        "outputId": "cb23dcc5-179b-43f9-dcce-c1cf2fe39a7d"
      },
      "source": [
        "# Creating a pandas series to know the age groups and the number of students in each one and how many were placed or not\n",
        "\n",
        "# Grouping based on age\n",
        "age_groups = student_records_df['age'].value_counts()\n",
        "age_groups = pd.DataFrame({'Total Count' : age_groups.values.tolist()}, index = age_groups.index.to_list())\n",
        "age_groups.index.name='Age'\n",
        "\n",
        "# Splitting the student records to placed and not placed\n",
        "placed_students = student_records_df[student_records_df['placed_or_not'] == 1]\n",
        "not_placed_students = student_records_df[student_records_df['placed_or_not'] == 0]\n",
        "\n",
        "# Placed students grouped by age\n",
        "age_groups_placed = placed_students['age'].value_counts()\n",
        "age_groups_placed = pd.DataFrame({'Placed Students Count' : age_groups_placed.values.tolist()}, index = age_groups_placed.index.to_list())\n",
        "age_groups_placed.index.name = 'Age'\n",
        "\n",
        "# Not placed students grouped by age\n",
        "age_groups_not_placed = not_placed_students['age'].value_counts()\n",
        "age_groups_not_placed = pd.DataFrame({'Non-Placed Students Count' : age_groups_not_placed.values.tolist()}, index = age_groups_not_placed.index.to_list())\n",
        "age_groups_not_placed.index.name = 'Age'\n",
        "\n",
        "# Grouped student records by age and placement\n",
        "age_groups_df = pd.concat([age_groups_placed, age_groups_not_placed, age_groups], axis=1)\n",
        "age_groups_df = age_groups_df.fillna(0).astype({'Non-Placed Students Count': 'int64'})\n",
        "age_groups_df"
      ],
      "execution_count": null,
      "outputs": [
        {
          "output_type": "execute_result",
          "data": {
            "text/html": [
              "<div>\n",
              "<style scoped>\n",
              "    .dataframe tbody tr th:only-of-type {\n",
              "        vertical-align: middle;\n",
              "    }\n",
              "\n",
              "    .dataframe tbody tr th {\n",
              "        vertical-align: top;\n",
              "    }\n",
              "\n",
              "    .dataframe thead th {\n",
              "        text-align: right;\n",
              "    }\n",
              "</style>\n",
              "<table border=\"1\" class=\"dataframe\">\n",
              "  <thead>\n",
              "    <tr style=\"text-align: right;\">\n",
              "      <th></th>\n",
              "      <th>Placed Students Count</th>\n",
              "      <th>Non-Placed Students Count</th>\n",
              "      <th>Total Count</th>\n",
              "    </tr>\n",
              "    <tr>\n",
              "      <th>Age</th>\n",
              "      <th></th>\n",
              "      <th></th>\n",
              "      <th></th>\n",
              "    </tr>\n",
              "  </thead>\n",
              "  <tbody>\n",
              "    <tr>\n",
              "      <th>19</th>\n",
              "      <td>92</td>\n",
              "      <td>64</td>\n",
              "      <td>156</td>\n",
              "    </tr>\n",
              "    <tr>\n",
              "      <th>20</th>\n",
              "      <td>199</td>\n",
              "      <td>176</td>\n",
              "      <td>375</td>\n",
              "    </tr>\n",
              "    <tr>\n",
              "      <th>21</th>\n",
              "      <td>617</td>\n",
              "      <td>467</td>\n",
              "      <td>1084</td>\n",
              "    </tr>\n",
              "    <tr>\n",
              "      <th>22</th>\n",
              "      <td>478</td>\n",
              "      <td>463</td>\n",
              "      <td>941</td>\n",
              "    </tr>\n",
              "    <tr>\n",
              "      <th>23</th>\n",
              "      <td>85</td>\n",
              "      <td>110</td>\n",
              "      <td>195</td>\n",
              "    </tr>\n",
              "    <tr>\n",
              "      <th>24</th>\n",
              "      <td>104</td>\n",
              "      <td>27</td>\n",
              "      <td>131</td>\n",
              "    </tr>\n",
              "    <tr>\n",
              "      <th>25</th>\n",
              "      <td>22</td>\n",
              "      <td>7</td>\n",
              "      <td>29</td>\n",
              "    </tr>\n",
              "    <tr>\n",
              "      <th>26</th>\n",
              "      <td>37</td>\n",
              "      <td>13</td>\n",
              "      <td>50</td>\n",
              "    </tr>\n",
              "    <tr>\n",
              "      <th>28</th>\n",
              "      <td>3</td>\n",
              "      <td>0</td>\n",
              "      <td>3</td>\n",
              "    </tr>\n",
              "    <tr>\n",
              "      <th>29</th>\n",
              "      <td>1</td>\n",
              "      <td>0</td>\n",
              "      <td>1</td>\n",
              "    </tr>\n",
              "    <tr>\n",
              "      <th>30</th>\n",
              "      <td>1</td>\n",
              "      <td>0</td>\n",
              "      <td>1</td>\n",
              "    </tr>\n",
              "  </tbody>\n",
              "</table>\n",
              "</div>"
            ],
            "text/plain": [
              "     Placed Students Count  Non-Placed Students Count  Total Count\n",
              "Age                                                               \n",
              "19                      92                         64          156\n",
              "20                     199                        176          375\n",
              "21                     617                        467         1084\n",
              "22                     478                        463          941\n",
              "23                      85                        110          195\n",
              "24                     104                         27          131\n",
              "25                      22                          7           29\n",
              "26                      37                         13           50\n",
              "28                       3                          0            3\n",
              "29                       1                          0            1\n",
              "30                       1                          0            1"
            ]
          },
          "metadata": {},
          "execution_count": 4
        }
      ]
    },
    {
      "cell_type": "code",
      "metadata": {
        "colab": {
          "base_uri": "https://localhost:8080/",
          "height": 265
        },
        "id": "MJK9kf6h963j",
        "outputId": "5a113e67-22c0-4189-b3b2-7335f35c41bd"
      },
      "source": [
        "# Creating a pandas dataframe to get the average of age and CGPA by stream\n",
        "avg_by_stream = student_records_df.groupby('stream').mean().drop(['internships', 'hostel', 'history_of_backlogs', 'placed_or_not', 'id'], 1)\n",
        "avg_by_stream = avg_by_stream.rename(columns={\"age\": \"Age\", \"cgpa\": \"CGPA\"})\n",
        "avg_by_stream "
      ],
      "execution_count": null,
      "outputs": [
        {
          "output_type": "execute_result",
          "data": {
            "text/html": [
              "<div>\n",
              "<style scoped>\n",
              "    .dataframe tbody tr th:only-of-type {\n",
              "        vertical-align: middle;\n",
              "    }\n",
              "\n",
              "    .dataframe tbody tr th {\n",
              "        vertical-align: top;\n",
              "    }\n",
              "\n",
              "    .dataframe thead th {\n",
              "        text-align: right;\n",
              "    }\n",
              "</style>\n",
              "<table border=\"1\" class=\"dataframe\">\n",
              "  <thead>\n",
              "    <tr style=\"text-align: right;\">\n",
              "      <th></th>\n",
              "      <th>Age</th>\n",
              "      <th>CGPA</th>\n",
              "    </tr>\n",
              "    <tr>\n",
              "      <th>stream</th>\n",
              "      <th></th>\n",
              "      <th></th>\n",
              "    </tr>\n",
              "  </thead>\n",
              "  <tbody>\n",
              "    <tr>\n",
              "      <th>Civil</th>\n",
              "      <td>21.441640</td>\n",
              "      <td>7.094637</td>\n",
              "    </tr>\n",
              "    <tr>\n",
              "      <th>Computer Science</th>\n",
              "      <td>21.559278</td>\n",
              "      <td>7.039948</td>\n",
              "    </tr>\n",
              "    <tr>\n",
              "      <th>Electrical</th>\n",
              "      <td>21.299401</td>\n",
              "      <td>7.080838</td>\n",
              "    </tr>\n",
              "    <tr>\n",
              "      <th>Electronics And Communication</th>\n",
              "      <td>21.410377</td>\n",
              "      <td>7.125000</td>\n",
              "    </tr>\n",
              "    <tr>\n",
              "      <th>Information Technology</th>\n",
              "      <td>21.539797</td>\n",
              "      <td>7.073806</td>\n",
              "    </tr>\n",
              "    <tr>\n",
              "      <th>Mechanical</th>\n",
              "      <td>21.518868</td>\n",
              "      <td>7.063679</td>\n",
              "    </tr>\n",
              "  </tbody>\n",
              "</table>\n",
              "</div>"
            ],
            "text/plain": [
              "                                     Age      CGPA\n",
              "stream                                            \n",
              "Civil                          21.441640  7.094637\n",
              "Computer Science               21.559278  7.039948\n",
              "Electrical                     21.299401  7.080838\n",
              "Electronics And Communication  21.410377  7.125000\n",
              "Information Technology         21.539797  7.073806\n",
              "Mechanical                     21.518868  7.063679"
            ]
          },
          "metadata": {},
          "execution_count": 5
        }
      ]
    },
    {
      "cell_type": "code",
      "metadata": {
        "colab": {
          "base_uri": "https://localhost:8080/",
          "height": 110
        },
        "id": "UiEwff0sLMKp",
        "outputId": "595cbb82-fd3e-46a5-aa66-cad12edaadea"
      },
      "source": [
        "# Group student placement by gender\n",
        "\n",
        "# Total students\n",
        "gender = student_records_df['gender'].value_counts()\n",
        "gender = pd.DataFrame({'Total Count': gender.values.tolist()}, index= gender.index.to_list())\n",
        "gender.index.name = 'Gender'\n",
        "\n",
        "# Placed studnets\n",
        "gender_placed  = placed_students['gender'].value_counts()\n",
        "gender_placed = pd.DataFrame({'Placed Students Count': gender_placed.values.tolist()}, index= gender_placed.index.to_list())\n",
        "\n",
        "# Non-Placed students\n",
        "gender_not_placed = not_placed_students['gender'].value_counts()\n",
        "gender_not_placed = pd.DataFrame({'Non-Placed Students Count': gender_not_placed.values.tolist()}, index= gender_not_placed.index.to_list())\n",
        "\n",
        "# Average CGPA and age by gender\n",
        "avg_by_gender = student_records_df.groupby('gender').mean().drop(['internships', 'hostel', 'history_of_backlogs', 'placed_or_not', 'id'], 1)\n",
        "avg_by_gender = avg_by_gender.rename(columns={\"age\": \"Age\", \"cgpa\": \"CGPA\"})\n",
        "\n",
        "# Grouped student records by gender and placement\n",
        "gender_df = pd.concat([gender_placed, gender_not_placed, gender, avg_by_gender], axis=1)\n",
        "gender_df"
      ],
      "execution_count": null,
      "outputs": [
        {
          "output_type": "execute_result",
          "data": {
            "text/html": [
              "<div>\n",
              "<style scoped>\n",
              "    .dataframe tbody tr th:only-of-type {\n",
              "        vertical-align: middle;\n",
              "    }\n",
              "\n",
              "    .dataframe tbody tr th {\n",
              "        vertical-align: top;\n",
              "    }\n",
              "\n",
              "    .dataframe thead th {\n",
              "        text-align: right;\n",
              "    }\n",
              "</style>\n",
              "<table border=\"1\" class=\"dataframe\">\n",
              "  <thead>\n",
              "    <tr style=\"text-align: right;\">\n",
              "      <th></th>\n",
              "      <th>Placed Students Count</th>\n",
              "      <th>Non-Placed Students Count</th>\n",
              "      <th>Total Count</th>\n",
              "      <th>Age</th>\n",
              "      <th>CGPA</th>\n",
              "    </tr>\n",
              "  </thead>\n",
              "  <tbody>\n",
              "    <tr>\n",
              "      <th>Male</th>\n",
              "      <td>1364</td>\n",
              "      <td>1111</td>\n",
              "      <td>2475</td>\n",
              "      <td>21.473131</td>\n",
              "      <td>7.072323</td>\n",
              "    </tr>\n",
              "    <tr>\n",
              "      <th>Female</th>\n",
              "      <td>275</td>\n",
              "      <td>216</td>\n",
              "      <td>491</td>\n",
              "      <td>21.549898</td>\n",
              "      <td>7.081466</td>\n",
              "    </tr>\n",
              "  </tbody>\n",
              "</table>\n",
              "</div>"
            ],
            "text/plain": [
              "        Placed Students Count  Non-Placed Students Count  ...        Age      CGPA\n",
              "Male                     1364                       1111  ...  21.473131  7.072323\n",
              "Female                    275                        216  ...  21.549898  7.081466\n",
              "\n",
              "[2 rows x 5 columns]"
            ]
          },
          "metadata": {},
          "execution_count": 15
        }
      ]
    },
    {
      "cell_type": "code",
      "metadata": {
        "id": "_xt0Uj-KVaWf"
      },
      "source": [
        "x = student_records_df[['gender', 'stream', 'age']].value_counts()"
      ],
      "execution_count": null,
      "outputs": []
    },
    {
      "cell_type": "code",
      "metadata": {
        "id": "-mA3r7YRvjSL"
      },
      "source": [
        "sql = 'select count(age) from student_data group by age, gender'\n",
        "df = pd.read_sql_query(sql, engine)"
      ],
      "execution_count": null,
      "outputs": []
    },
    {
      "cell_type": "code",
      "metadata": {
        "colab": {
          "base_uri": "https://localhost:8080/",
          "height": 665
        },
        "id": "g40rp0UfxqH9",
        "outputId": "3d8dbd6d-d49e-40c5-ccae-29992a2155de"
      },
      "source": [
        "df"
      ],
      "execution_count": null,
      "outputs": [
        {
          "output_type": "execute_result",
          "data": {
            "text/html": [
              "<div>\n",
              "<style scoped>\n",
              "    .dataframe tbody tr th:only-of-type {\n",
              "        vertical-align: middle;\n",
              "    }\n",
              "\n",
              "    .dataframe tbody tr th {\n",
              "        vertical-align: top;\n",
              "    }\n",
              "\n",
              "    .dataframe thead th {\n",
              "        text-align: right;\n",
              "    }\n",
              "</style>\n",
              "<table border=\"1\" class=\"dataframe\">\n",
              "  <thead>\n",
              "    <tr style=\"text-align: right;\">\n",
              "      <th></th>\n",
              "      <th>count</th>\n",
              "    </tr>\n",
              "  </thead>\n",
              "  <tbody>\n",
              "    <tr>\n",
              "      <th>0</th>\n",
              "      <td>166</td>\n",
              "    </tr>\n",
              "    <tr>\n",
              "      <th>1</th>\n",
              "      <td>1</td>\n",
              "    </tr>\n",
              "    <tr>\n",
              "      <th>2</th>\n",
              "      <td>185</td>\n",
              "    </tr>\n",
              "    <tr>\n",
              "      <th>3</th>\n",
              "      <td>899</td>\n",
              "    </tr>\n",
              "    <tr>\n",
              "      <th>4</th>\n",
              "      <td>10</td>\n",
              "    </tr>\n",
              "    <tr>\n",
              "      <th>5</th>\n",
              "      <td>25</td>\n",
              "    </tr>\n",
              "    <tr>\n",
              "      <th>6</th>\n",
              "      <td>772</td>\n",
              "    </tr>\n",
              "    <tr>\n",
              "      <th>7</th>\n",
              "      <td>1</td>\n",
              "    </tr>\n",
              "    <tr>\n",
              "      <th>8</th>\n",
              "      <td>113</td>\n",
              "    </tr>\n",
              "    <tr>\n",
              "      <th>9</th>\n",
              "      <td>138</td>\n",
              "    </tr>\n",
              "    <tr>\n",
              "      <th>10</th>\n",
              "      <td>2</td>\n",
              "    </tr>\n",
              "    <tr>\n",
              "      <th>11</th>\n",
              "      <td>319</td>\n",
              "    </tr>\n",
              "    <tr>\n",
              "      <th>12</th>\n",
              "      <td>169</td>\n",
              "    </tr>\n",
              "    <tr>\n",
              "      <th>13</th>\n",
              "      <td>4</td>\n",
              "    </tr>\n",
              "    <tr>\n",
              "      <th>14</th>\n",
              "      <td>1</td>\n",
              "    </tr>\n",
              "    <tr>\n",
              "      <th>15</th>\n",
              "      <td>40</td>\n",
              "    </tr>\n",
              "    <tr>\n",
              "      <th>16</th>\n",
              "      <td>18</td>\n",
              "    </tr>\n",
              "    <tr>\n",
              "      <th>17</th>\n",
              "      <td>18</td>\n",
              "    </tr>\n",
              "    <tr>\n",
              "      <th>18</th>\n",
              "      <td>56</td>\n",
              "    </tr>\n",
              "    <tr>\n",
              "      <th>19</th>\n",
              "      <td>29</td>\n",
              "    </tr>\n",
              "  </tbody>\n",
              "</table>\n",
              "</div>"
            ],
            "text/plain": [
              "    count\n",
              "0     166\n",
              "1       1\n",
              "2     185\n",
              "3     899\n",
              "4      10\n",
              "5      25\n",
              "6     772\n",
              "7       1\n",
              "8     113\n",
              "9     138\n",
              "10      2\n",
              "11    319\n",
              "12    169\n",
              "13      4\n",
              "14      1\n",
              "15     40\n",
              "16     18\n",
              "17     18\n",
              "18     56\n",
              "19     29"
            ]
          },
          "metadata": {},
          "execution_count": 31
        }
      ]
    },
    {
      "cell_type": "code",
      "metadata": {
        "id": "ZOeUoeyy0d7s"
      },
      "source": [
        ""
      ],
      "execution_count": null,
      "outputs": []
    }
  ]
}