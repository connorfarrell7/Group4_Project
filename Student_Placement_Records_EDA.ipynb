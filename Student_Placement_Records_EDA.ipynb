{
  "nbformat": 4,
  "nbformat_minor": 0,
  "metadata": {
    "colab": {
      "name": "Student Placement Records EDA.ipynb",
      "provenance": [],
      "authorship_tag": "ABX9TyMzjaLHgIDTO/80bDJ3OYWR",
      "include_colab_link": true
    },
    "kernelspec": {
      "name": "python3",
      "display_name": "Python 3"
    },
    "language_info": {
      "name": "python"
    }
  },
  "cells": [
    {
      "cell_type": "markdown",
      "metadata": {
        "id": "view-in-github",
        "colab_type": "text"
      },
      "source": [
        "<a href=\"https://colab.research.google.com/github/connorfarrell7/Predicting_Placements_for_Engineering_Students/blob/mmetwalli96/Student_Placement_Records_EDA.ipynb\" target=\"_parent\"><img src=\"https://colab.research.google.com/assets/colab-badge.svg\" alt=\"Open In Colab\"/></a>"
      ]
    },
    {
      "cell_type": "code",
      "metadata": {
        "colab": {
          "base_uri": "https://localhost:8080/"
        },
        "id": "P4nHstyl8ua0",
        "outputId": "6b1d2eb7-89a4-458c-e648-db359adbf4e4"
      },
      "source": [
        "# Importing dependencies\n",
        "import psycopg2\n",
        "import getpass\n",
        "import pandas as pd\n",
        "import seaborn as sns\n",
        "import matplotlib.pyplot as plt"
      ],
      "execution_count": 1,
      "outputs": [
        {
          "output_type": "stream",
          "name": "stderr",
          "text": [
            "/usr/local/lib/python3.7/dist-packages/psycopg2/__init__.py:144: UserWarning: The psycopg2 wheel package will be renamed from release 2.8; in order to keep installing from binary please use \"pip install psycopg2-binary\" instead. For details see: <http://initd.org/psycopg/docs/install.html#binary-install-from-pypi>.\n",
            "  \"\"\")\n"
          ]
        }
      ]
    },
    {
      "cell_type": "code",
      "metadata": {
        "colab": {
          "base_uri": "https://localhost:8080/"
        },
        "id": "lenvjbP09MvJ",
        "outputId": "bee8fc5b-efba-49e0-f43e-44cc2c37ca74"
      },
      "source": [
        "# Connect to the database\n",
        "server_pass = getpass.getpass('Enter database password: ')\n",
        "engine = psycopg2.connect(\n",
        "    database=\"postgres\",\n",
        "    user=\"group_4\",\n",
        "    password=server_pass,\n",
        "    host=\"capstone-project.c9uk6piofxnr.us-east-2.rds.amazonaws.com\",\n",
        "    port='5432'\n",
        ")"
      ],
      "execution_count": 2,
      "outputs": [
        {
          "name": "stdout",
          "output_type": "stream",
          "text": [
            "Enter database password: ··········\n"
          ]
        }
      ]
    },
    {
      "cell_type": "code",
      "metadata": {
        "colab": {
          "base_uri": "https://localhost:8080/",
          "height": 203
        },
        "id": "iqlAD9rI9eGI",
        "outputId": "d6b5e694-e00e-43ca-e79d-28b6f5e630e9"
      },
      "source": [
        "# Importing the data from the databse \n",
        "sql = \"select * from student_data;\"\n",
        "student_records_df = pd.read_sql_query(sql, engine)\n",
        "student_records_df.head()"
      ],
      "execution_count": 3,
      "outputs": [
        {
          "output_type": "execute_result",
          "data": {
            "text/html": [
              "<div>\n",
              "<style scoped>\n",
              "    .dataframe tbody tr th:only-of-type {\n",
              "        vertical-align: middle;\n",
              "    }\n",
              "\n",
              "    .dataframe tbody tr th {\n",
              "        vertical-align: top;\n",
              "    }\n",
              "\n",
              "    .dataframe thead th {\n",
              "        text-align: right;\n",
              "    }\n",
              "</style>\n",
              "<table border=\"1\" class=\"dataframe\">\n",
              "  <thead>\n",
              "    <tr style=\"text-align: right;\">\n",
              "      <th></th>\n",
              "      <th>age</th>\n",
              "      <th>gender</th>\n",
              "      <th>stream</th>\n",
              "      <th>internships</th>\n",
              "      <th>cgpa</th>\n",
              "      <th>hostel</th>\n",
              "      <th>history_of_backlogs</th>\n",
              "      <th>placed_or_not</th>\n",
              "      <th>id</th>\n",
              "    </tr>\n",
              "  </thead>\n",
              "  <tbody>\n",
              "    <tr>\n",
              "      <th>0</th>\n",
              "      <td>22</td>\n",
              "      <td>Male</td>\n",
              "      <td>Electronics And Communication</td>\n",
              "      <td>1</td>\n",
              "      <td>8</td>\n",
              "      <td>1</td>\n",
              "      <td>1</td>\n",
              "      <td>1</td>\n",
              "      <td>1</td>\n",
              "    </tr>\n",
              "    <tr>\n",
              "      <th>1</th>\n",
              "      <td>21</td>\n",
              "      <td>Female</td>\n",
              "      <td>Computer Science</td>\n",
              "      <td>0</td>\n",
              "      <td>7</td>\n",
              "      <td>1</td>\n",
              "      <td>1</td>\n",
              "      <td>1</td>\n",
              "      <td>2</td>\n",
              "    </tr>\n",
              "    <tr>\n",
              "      <th>2</th>\n",
              "      <td>22</td>\n",
              "      <td>Female</td>\n",
              "      <td>Information Technology</td>\n",
              "      <td>1</td>\n",
              "      <td>6</td>\n",
              "      <td>0</td>\n",
              "      <td>0</td>\n",
              "      <td>1</td>\n",
              "      <td>3</td>\n",
              "    </tr>\n",
              "    <tr>\n",
              "      <th>3</th>\n",
              "      <td>21</td>\n",
              "      <td>Male</td>\n",
              "      <td>Information Technology</td>\n",
              "      <td>0</td>\n",
              "      <td>8</td>\n",
              "      <td>0</td>\n",
              "      <td>1</td>\n",
              "      <td>1</td>\n",
              "      <td>4</td>\n",
              "    </tr>\n",
              "    <tr>\n",
              "      <th>4</th>\n",
              "      <td>22</td>\n",
              "      <td>Male</td>\n",
              "      <td>Mechanical</td>\n",
              "      <td>0</td>\n",
              "      <td>8</td>\n",
              "      <td>1</td>\n",
              "      <td>0</td>\n",
              "      <td>1</td>\n",
              "      <td>5</td>\n",
              "    </tr>\n",
              "  </tbody>\n",
              "</table>\n",
              "</div>"
            ],
            "text/plain": [
              "   age  gender  ... placed_or_not  id\n",
              "0   22    Male  ...             1   1\n",
              "1   21  Female  ...             1   2\n",
              "2   22  Female  ...             1   3\n",
              "3   21    Male  ...             1   4\n",
              "4   22    Male  ...             1   5\n",
              "\n",
              "[5 rows x 9 columns]"
            ]
          },
          "metadata": {},
          "execution_count": 3
        }
      ]
    },
    {
      "cell_type": "code",
      "metadata": {
        "colab": {
          "base_uri": "https://localhost:8080/",
          "height": 357
        },
        "id": "ASgFIY7n8tK4",
        "outputId": "40b06b8f-4f2a-4946-8ce5-ef472e1cf50a"
      },
      "source": [
        "# Checking the number of null and na values in the data\n",
        "\n",
        "# Checking the number of null values\n",
        "null = student_records_df.isnull().sum()\n",
        "\n",
        "# Checking the number of na values\n",
        "na = student_records_df.isna().sum()\n",
        "\n",
        "# Combining the two results\n",
        "null_na = pd.concat([null, na], axis=1)\n",
        "null_na = null_na.rename(columns = {0: 'Null Count', 1: 'Na Count'})\n",
        "null_na.index.name = 'Column Name'\n",
        "null_na"
      ],
      "execution_count": 4,
      "outputs": [
        {
          "output_type": "execute_result",
          "data": {
            "text/html": [
              "<div>\n",
              "<style scoped>\n",
              "    .dataframe tbody tr th:only-of-type {\n",
              "        vertical-align: middle;\n",
              "    }\n",
              "\n",
              "    .dataframe tbody tr th {\n",
              "        vertical-align: top;\n",
              "    }\n",
              "\n",
              "    .dataframe thead th {\n",
              "        text-align: right;\n",
              "    }\n",
              "</style>\n",
              "<table border=\"1\" class=\"dataframe\">\n",
              "  <thead>\n",
              "    <tr style=\"text-align: right;\">\n",
              "      <th></th>\n",
              "      <th>Null Count</th>\n",
              "      <th>Na Count</th>\n",
              "    </tr>\n",
              "    <tr>\n",
              "      <th>Column Name</th>\n",
              "      <th></th>\n",
              "      <th></th>\n",
              "    </tr>\n",
              "  </thead>\n",
              "  <tbody>\n",
              "    <tr>\n",
              "      <th>age</th>\n",
              "      <td>0</td>\n",
              "      <td>0</td>\n",
              "    </tr>\n",
              "    <tr>\n",
              "      <th>gender</th>\n",
              "      <td>0</td>\n",
              "      <td>0</td>\n",
              "    </tr>\n",
              "    <tr>\n",
              "      <th>stream</th>\n",
              "      <td>0</td>\n",
              "      <td>0</td>\n",
              "    </tr>\n",
              "    <tr>\n",
              "      <th>internships</th>\n",
              "      <td>0</td>\n",
              "      <td>0</td>\n",
              "    </tr>\n",
              "    <tr>\n",
              "      <th>cgpa</th>\n",
              "      <td>0</td>\n",
              "      <td>0</td>\n",
              "    </tr>\n",
              "    <tr>\n",
              "      <th>hostel</th>\n",
              "      <td>0</td>\n",
              "      <td>0</td>\n",
              "    </tr>\n",
              "    <tr>\n",
              "      <th>history_of_backlogs</th>\n",
              "      <td>0</td>\n",
              "      <td>0</td>\n",
              "    </tr>\n",
              "    <tr>\n",
              "      <th>placed_or_not</th>\n",
              "      <td>0</td>\n",
              "      <td>0</td>\n",
              "    </tr>\n",
              "    <tr>\n",
              "      <th>id</th>\n",
              "      <td>0</td>\n",
              "      <td>0</td>\n",
              "    </tr>\n",
              "  </tbody>\n",
              "</table>\n",
              "</div>"
            ],
            "text/plain": [
              "                     Null Count  Na Count\n",
              "Column Name                              \n",
              "age                           0         0\n",
              "gender                        0         0\n",
              "stream                        0         0\n",
              "internships                   0         0\n",
              "cgpa                          0         0\n",
              "hostel                        0         0\n",
              "history_of_backlogs           0         0\n",
              "placed_or_not                 0         0\n",
              "id                            0         0"
            ]
          },
          "metadata": {},
          "execution_count": 4
        }
      ]
    },
    {
      "cell_type": "code",
      "metadata": {
        "colab": {
          "base_uri": "https://localhost:8080/",
          "height": 418
        },
        "id": "fSmJ54lo9jVH",
        "outputId": "dc4c36d1-edbe-4ec8-e5b7-9f903b3c1008"
      },
      "source": [
        "# Creating a pandas series to know the age groups and the number of students in each one and how many were placed or not\n",
        "\n",
        "# Grouping based on age\n",
        "age_groups = student_records_df['age'].value_counts()\n",
        "age_groups = pd.DataFrame({'Total Count' : age_groups.values.tolist()}, index = age_groups.index.to_list())\n",
        "age_groups.index.name='Age'\n",
        "\n",
        "# Splitting the student records to placed and not placed\n",
        "placed_students = student_records_df[student_records_df['placed_or_not'] == 1]\n",
        "not_placed_students = student_records_df[student_records_df['placed_or_not'] == 0]\n",
        "\n",
        "# Placed students grouped by age\n",
        "age_groups_placed = placed_students['age'].value_counts()\n",
        "age_groups_placed = pd.DataFrame({'Placed Students Count' : age_groups_placed.values.tolist()}, index = age_groups_placed.index.to_list())\n",
        "age_groups_placed.index.name = 'Age'\n",
        "\n",
        "# Not placed students grouped by age\n",
        "age_groups_not_placed = not_placed_students['age'].value_counts()\n",
        "age_groups_not_placed = pd.DataFrame({'Non-Placed Students Count' : age_groups_not_placed.values.tolist()}, index = age_groups_not_placed.index.to_list())\n",
        "age_groups_not_placed.index.name = 'Age'\n",
        "\n",
        "# Grouped student records by age and placement\n",
        "age_groups_df = pd.concat([age_groups_placed, age_groups_not_placed, age_groups], axis=1)\n",
        "age_groups_df = age_groups_df.fillna(0).astype({'Non-Placed Students Count': 'int64'})\n",
        "age_groups_df"
      ],
      "execution_count": 5,
      "outputs": [
        {
          "output_type": "execute_result",
          "data": {
            "text/html": [
              "<div>\n",
              "<style scoped>\n",
              "    .dataframe tbody tr th:only-of-type {\n",
              "        vertical-align: middle;\n",
              "    }\n",
              "\n",
              "    .dataframe tbody tr th {\n",
              "        vertical-align: top;\n",
              "    }\n",
              "\n",
              "    .dataframe thead th {\n",
              "        text-align: right;\n",
              "    }\n",
              "</style>\n",
              "<table border=\"1\" class=\"dataframe\">\n",
              "  <thead>\n",
              "    <tr style=\"text-align: right;\">\n",
              "      <th></th>\n",
              "      <th>Placed Students Count</th>\n",
              "      <th>Non-Placed Students Count</th>\n",
              "      <th>Total Count</th>\n",
              "    </tr>\n",
              "    <tr>\n",
              "      <th>Age</th>\n",
              "      <th></th>\n",
              "      <th></th>\n",
              "      <th></th>\n",
              "    </tr>\n",
              "  </thead>\n",
              "  <tbody>\n",
              "    <tr>\n",
              "      <th>19</th>\n",
              "      <td>92</td>\n",
              "      <td>64</td>\n",
              "      <td>156</td>\n",
              "    </tr>\n",
              "    <tr>\n",
              "      <th>20</th>\n",
              "      <td>199</td>\n",
              "      <td>176</td>\n",
              "      <td>375</td>\n",
              "    </tr>\n",
              "    <tr>\n",
              "      <th>21</th>\n",
              "      <td>617</td>\n",
              "      <td>467</td>\n",
              "      <td>1084</td>\n",
              "    </tr>\n",
              "    <tr>\n",
              "      <th>22</th>\n",
              "      <td>478</td>\n",
              "      <td>463</td>\n",
              "      <td>941</td>\n",
              "    </tr>\n",
              "    <tr>\n",
              "      <th>23</th>\n",
              "      <td>85</td>\n",
              "      <td>110</td>\n",
              "      <td>195</td>\n",
              "    </tr>\n",
              "    <tr>\n",
              "      <th>24</th>\n",
              "      <td>104</td>\n",
              "      <td>27</td>\n",
              "      <td>131</td>\n",
              "    </tr>\n",
              "    <tr>\n",
              "      <th>25</th>\n",
              "      <td>22</td>\n",
              "      <td>7</td>\n",
              "      <td>29</td>\n",
              "    </tr>\n",
              "    <tr>\n",
              "      <th>26</th>\n",
              "      <td>37</td>\n",
              "      <td>13</td>\n",
              "      <td>50</td>\n",
              "    </tr>\n",
              "    <tr>\n",
              "      <th>28</th>\n",
              "      <td>3</td>\n",
              "      <td>0</td>\n",
              "      <td>3</td>\n",
              "    </tr>\n",
              "    <tr>\n",
              "      <th>29</th>\n",
              "      <td>1</td>\n",
              "      <td>0</td>\n",
              "      <td>1</td>\n",
              "    </tr>\n",
              "    <tr>\n",
              "      <th>30</th>\n",
              "      <td>1</td>\n",
              "      <td>0</td>\n",
              "      <td>1</td>\n",
              "    </tr>\n",
              "  </tbody>\n",
              "</table>\n",
              "</div>"
            ],
            "text/plain": [
              "     Placed Students Count  Non-Placed Students Count  Total Count\n",
              "Age                                                               \n",
              "19                      92                         64          156\n",
              "20                     199                        176          375\n",
              "21                     617                        467         1084\n",
              "22                     478                        463          941\n",
              "23                      85                        110          195\n",
              "24                     104                         27          131\n",
              "25                      22                          7           29\n",
              "26                      37                         13           50\n",
              "28                       3                          0            3\n",
              "29                       1                          0            1\n",
              "30                       1                          0            1"
            ]
          },
          "metadata": {},
          "execution_count": 5
        }
      ]
    },
    {
      "cell_type": "code",
      "metadata": {
        "colab": {
          "base_uri": "https://localhost:8080/",
          "height": 265
        },
        "id": "MJK9kf6h963j",
        "outputId": "04160aa2-1b6e-4b20-ab41-1ece5b2bd38d"
      },
      "source": [
        "# Creating a pandas dataframe to get the average of age and CGPA by stream\n",
        "avg_by_stream = student_records_df.groupby('stream').mean().drop(['internships', 'hostel', 'history_of_backlogs', 'placed_or_not', 'id'], 1)\n",
        "avg_by_stream = avg_by_stream.rename(columns={\"age\": \"Age\", \"cgpa\": \"CGPA\"})\n",
        "avg_by_stream "
      ],
      "execution_count": 6,
      "outputs": [
        {
          "output_type": "execute_result",
          "data": {
            "text/html": [
              "<div>\n",
              "<style scoped>\n",
              "    .dataframe tbody tr th:only-of-type {\n",
              "        vertical-align: middle;\n",
              "    }\n",
              "\n",
              "    .dataframe tbody tr th {\n",
              "        vertical-align: top;\n",
              "    }\n",
              "\n",
              "    .dataframe thead th {\n",
              "        text-align: right;\n",
              "    }\n",
              "</style>\n",
              "<table border=\"1\" class=\"dataframe\">\n",
              "  <thead>\n",
              "    <tr style=\"text-align: right;\">\n",
              "      <th></th>\n",
              "      <th>Age</th>\n",
              "      <th>CGPA</th>\n",
              "    </tr>\n",
              "    <tr>\n",
              "      <th>stream</th>\n",
              "      <th></th>\n",
              "      <th></th>\n",
              "    </tr>\n",
              "  </thead>\n",
              "  <tbody>\n",
              "    <tr>\n",
              "      <th>Civil</th>\n",
              "      <td>21.441640</td>\n",
              "      <td>7.094637</td>\n",
              "    </tr>\n",
              "    <tr>\n",
              "      <th>Computer Science</th>\n",
              "      <td>21.559278</td>\n",
              "      <td>7.039948</td>\n",
              "    </tr>\n",
              "    <tr>\n",
              "      <th>Electrical</th>\n",
              "      <td>21.299401</td>\n",
              "      <td>7.080838</td>\n",
              "    </tr>\n",
              "    <tr>\n",
              "      <th>Electronics And Communication</th>\n",
              "      <td>21.410377</td>\n",
              "      <td>7.125000</td>\n",
              "    </tr>\n",
              "    <tr>\n",
              "      <th>Information Technology</th>\n",
              "      <td>21.539797</td>\n",
              "      <td>7.073806</td>\n",
              "    </tr>\n",
              "    <tr>\n",
              "      <th>Mechanical</th>\n",
              "      <td>21.518868</td>\n",
              "      <td>7.063679</td>\n",
              "    </tr>\n",
              "  </tbody>\n",
              "</table>\n",
              "</div>"
            ],
            "text/plain": [
              "                                     Age      CGPA\n",
              "stream                                            \n",
              "Civil                          21.441640  7.094637\n",
              "Computer Science               21.559278  7.039948\n",
              "Electrical                     21.299401  7.080838\n",
              "Electronics And Communication  21.410377  7.125000\n",
              "Information Technology         21.539797  7.073806\n",
              "Mechanical                     21.518868  7.063679"
            ]
          },
          "metadata": {},
          "execution_count": 6
        }
      ]
    },
    {
      "cell_type": "code",
      "metadata": {
        "colab": {
          "base_uri": "https://localhost:8080/",
          "height": 110
        },
        "id": "UiEwff0sLMKp",
        "outputId": "68077d63-ad3b-41f9-dff4-bf994968dc33"
      },
      "source": [
        "# Group student placement by gender\n",
        "\n",
        "# Total students\n",
        "gender = student_records_df['gender'].value_counts()\n",
        "gender = pd.DataFrame({'Total Count': gender.values.tolist()}, index= gender.index.to_list())\n",
        "gender.index.name = 'Gender'\n",
        "\n",
        "# Placed studnets\n",
        "gender_placed  = placed_students['gender'].value_counts()\n",
        "gender_placed = pd.DataFrame({'Placed Students Count': gender_placed.values.tolist()}, index= gender_placed.index.to_list())\n",
        "\n",
        "# Non-Placed students\n",
        "gender_not_placed = not_placed_students['gender'].value_counts()\n",
        "gender_not_placed = pd.DataFrame({'Non-Placed Students Count': gender_not_placed.values.tolist()}, index= gender_not_placed.index.to_list())\n",
        "\n",
        "# Average CGPA and age by gender\n",
        "avg_by_gender = student_records_df.groupby('gender').mean().drop(['internships', 'hostel', 'history_of_backlogs', 'placed_or_not', 'id'], 1)\n",
        "avg_by_gender = avg_by_gender.rename(columns={\"age\": \"Age\", \"cgpa\": \"CGPA\"})\n",
        "\n",
        "# Grouped student records by gender and placement\n",
        "gender_df = pd.concat([gender_placed, gender_not_placed, gender, avg_by_gender], axis=1)\n",
        "gender_df"
      ],
      "execution_count": 7,
      "outputs": [
        {
          "output_type": "execute_result",
          "data": {
            "text/html": [
              "<div>\n",
              "<style scoped>\n",
              "    .dataframe tbody tr th:only-of-type {\n",
              "        vertical-align: middle;\n",
              "    }\n",
              "\n",
              "    .dataframe tbody tr th {\n",
              "        vertical-align: top;\n",
              "    }\n",
              "\n",
              "    .dataframe thead th {\n",
              "        text-align: right;\n",
              "    }\n",
              "</style>\n",
              "<table border=\"1\" class=\"dataframe\">\n",
              "  <thead>\n",
              "    <tr style=\"text-align: right;\">\n",
              "      <th></th>\n",
              "      <th>Placed Students Count</th>\n",
              "      <th>Non-Placed Students Count</th>\n",
              "      <th>Total Count</th>\n",
              "      <th>Age</th>\n",
              "      <th>CGPA</th>\n",
              "    </tr>\n",
              "  </thead>\n",
              "  <tbody>\n",
              "    <tr>\n",
              "      <th>Male</th>\n",
              "      <td>1364</td>\n",
              "      <td>1111</td>\n",
              "      <td>2475</td>\n",
              "      <td>21.473131</td>\n",
              "      <td>7.072323</td>\n",
              "    </tr>\n",
              "    <tr>\n",
              "      <th>Female</th>\n",
              "      <td>275</td>\n",
              "      <td>216</td>\n",
              "      <td>491</td>\n",
              "      <td>21.549898</td>\n",
              "      <td>7.081466</td>\n",
              "    </tr>\n",
              "  </tbody>\n",
              "</table>\n",
              "</div>"
            ],
            "text/plain": [
              "        Placed Students Count  Non-Placed Students Count  ...        Age      CGPA\n",
              "Male                     1364                       1111  ...  21.473131  7.072323\n",
              "Female                    275                        216  ...  21.549898  7.081466\n",
              "\n",
              "[2 rows x 5 columns]"
            ]
          },
          "metadata": {},
          "execution_count": 7
        }
      ]
    },
    {
      "cell_type": "code",
      "metadata": {
        "id": "_xt0Uj-KVaWf",
        "colab": {
          "base_uri": "https://localhost:8080/",
          "height": 295
        },
        "outputId": "a77d1800-287c-494f-85f6-38f5d2c80843"
      },
      "source": [
        "# Stistical Summary of the student records\n",
        "student_summary = student_records_df[['age', 'internships', 'hostel', 'history_of_backlogs', 'placed_or_not']].describe()\n",
        "student_summary"
      ],
      "execution_count": 8,
      "outputs": [
        {
          "output_type": "execute_result",
          "data": {
            "text/html": [
              "<div>\n",
              "<style scoped>\n",
              "    .dataframe tbody tr th:only-of-type {\n",
              "        vertical-align: middle;\n",
              "    }\n",
              "\n",
              "    .dataframe tbody tr th {\n",
              "        vertical-align: top;\n",
              "    }\n",
              "\n",
              "    .dataframe thead th {\n",
              "        text-align: right;\n",
              "    }\n",
              "</style>\n",
              "<table border=\"1\" class=\"dataframe\">\n",
              "  <thead>\n",
              "    <tr style=\"text-align: right;\">\n",
              "      <th></th>\n",
              "      <th>age</th>\n",
              "      <th>internships</th>\n",
              "      <th>hostel</th>\n",
              "      <th>history_of_backlogs</th>\n",
              "      <th>placed_or_not</th>\n",
              "    </tr>\n",
              "  </thead>\n",
              "  <tbody>\n",
              "    <tr>\n",
              "      <th>count</th>\n",
              "      <td>2966.000000</td>\n",
              "      <td>2966.000000</td>\n",
              "      <td>2966.000000</td>\n",
              "      <td>2966.000000</td>\n",
              "      <td>2966.000000</td>\n",
              "    </tr>\n",
              "    <tr>\n",
              "      <th>mean</th>\n",
              "      <td>21.485840</td>\n",
              "      <td>0.703641</td>\n",
              "      <td>0.269049</td>\n",
              "      <td>0.192178</td>\n",
              "      <td>0.552596</td>\n",
              "    </tr>\n",
              "    <tr>\n",
              "      <th>std</th>\n",
              "      <td>1.324933</td>\n",
              "      <td>0.740197</td>\n",
              "      <td>0.443540</td>\n",
              "      <td>0.394079</td>\n",
              "      <td>0.497310</td>\n",
              "    </tr>\n",
              "    <tr>\n",
              "      <th>min</th>\n",
              "      <td>19.000000</td>\n",
              "      <td>0.000000</td>\n",
              "      <td>0.000000</td>\n",
              "      <td>0.000000</td>\n",
              "      <td>0.000000</td>\n",
              "    </tr>\n",
              "    <tr>\n",
              "      <th>25%</th>\n",
              "      <td>21.000000</td>\n",
              "      <td>0.000000</td>\n",
              "      <td>0.000000</td>\n",
              "      <td>0.000000</td>\n",
              "      <td>0.000000</td>\n",
              "    </tr>\n",
              "    <tr>\n",
              "      <th>50%</th>\n",
              "      <td>21.000000</td>\n",
              "      <td>1.000000</td>\n",
              "      <td>0.000000</td>\n",
              "      <td>0.000000</td>\n",
              "      <td>1.000000</td>\n",
              "    </tr>\n",
              "    <tr>\n",
              "      <th>75%</th>\n",
              "      <td>22.000000</td>\n",
              "      <td>1.000000</td>\n",
              "      <td>1.000000</td>\n",
              "      <td>0.000000</td>\n",
              "      <td>1.000000</td>\n",
              "    </tr>\n",
              "    <tr>\n",
              "      <th>max</th>\n",
              "      <td>30.000000</td>\n",
              "      <td>3.000000</td>\n",
              "      <td>1.000000</td>\n",
              "      <td>1.000000</td>\n",
              "      <td>1.000000</td>\n",
              "    </tr>\n",
              "  </tbody>\n",
              "</table>\n",
              "</div>"
            ],
            "text/plain": [
              "               age  internships  ...  history_of_backlogs  placed_or_not\n",
              "count  2966.000000  2966.000000  ...          2966.000000    2966.000000\n",
              "mean     21.485840     0.703641  ...             0.192178       0.552596\n",
              "std       1.324933     0.740197  ...             0.394079       0.497310\n",
              "min      19.000000     0.000000  ...             0.000000       0.000000\n",
              "25%      21.000000     0.000000  ...             0.000000       0.000000\n",
              "50%      21.000000     1.000000  ...             0.000000       1.000000\n",
              "75%      22.000000     1.000000  ...             0.000000       1.000000\n",
              "max      30.000000     3.000000  ...             1.000000       1.000000\n",
              "\n",
              "[8 rows x 5 columns]"
            ]
          },
          "metadata": {},
          "execution_count": 8
        }
      ]
    },
    {
      "cell_type": "code",
      "metadata": {
        "id": "-mA3r7YRvjSL",
        "colab": {
          "base_uri": "https://localhost:8080/",
          "height": 80
        },
        "outputId": "3781030f-2b8a-44c0-ba28-f483ed4f0b74"
      },
      "source": [
        "avg_data = {'Average Placement Rate': student_summary.at['mean', 'placed_or_not'],\n",
        "            'Average Age': student_summary.at['mean','age'],\n",
        "            'Average Student Rate Living in Dorms': student_summary.at['mean', 'hostel']           \n",
        "            }\n",
        "avg_df = pd.DataFrame(data = avg_data, index=['Value'])\n",
        "avg_df "
      ],
      "execution_count": 9,
      "outputs": [
        {
          "output_type": "execute_result",
          "data": {
            "text/html": [
              "<div>\n",
              "<style scoped>\n",
              "    .dataframe tbody tr th:only-of-type {\n",
              "        vertical-align: middle;\n",
              "    }\n",
              "\n",
              "    .dataframe tbody tr th {\n",
              "        vertical-align: top;\n",
              "    }\n",
              "\n",
              "    .dataframe thead th {\n",
              "        text-align: right;\n",
              "    }\n",
              "</style>\n",
              "<table border=\"1\" class=\"dataframe\">\n",
              "  <thead>\n",
              "    <tr style=\"text-align: right;\">\n",
              "      <th></th>\n",
              "      <th>Average Placement Rate</th>\n",
              "      <th>Average Age</th>\n",
              "      <th>Average Student Rate Living in Dorms</th>\n",
              "    </tr>\n",
              "  </thead>\n",
              "  <tbody>\n",
              "    <tr>\n",
              "      <th>Value</th>\n",
              "      <td>0.552596</td>\n",
              "      <td>21.48584</td>\n",
              "      <td>0.269049</td>\n",
              "    </tr>\n",
              "  </tbody>\n",
              "</table>\n",
              "</div>"
            ],
            "text/plain": [
              "       Average Placement Rate  ...  Average Student Rate Living in Dorms\n",
              "Value                0.552596  ...                              0.269049\n",
              "\n",
              "[1 rows x 3 columns]"
            ]
          },
          "metadata": {},
          "execution_count": 9
        }
      ]
    },
    {
      "cell_type": "code",
      "metadata": {
        "colab": {
          "base_uri": "https://localhost:8080/"
        },
        "id": "ylFHryg4NGTj",
        "outputId": "44cfc4cd-ac9f-40a3-fd42-903f94cdc017"
      },
      "source": [
        "# Changing the value of placed_or_not columns from [0,1] to [placed, not placed]\n",
        "placed_students.loc[:,'placed_or_not'] = 'Placed'\n",
        "not_placed_students.loc[:,'placed_or_not'] = 'Not Placed'\n",
        "student_df = pd.concat([placed_students, not_placed_students], axis=0)"
      ],
      "execution_count": 19,
      "outputs": [
        {
          "output_type": "stream",
          "name": "stderr",
          "text": [
            "/usr/local/lib/python3.7/dist-packages/pandas/core/indexing.py:1763: SettingWithCopyWarning: \n",
            "A value is trying to be set on a copy of a slice from a DataFrame.\n",
            "Try using .loc[row_indexer,col_indexer] = value instead\n",
            "\n",
            "See the caveats in the documentation: https://pandas.pydata.org/pandas-docs/stable/user_guide/indexing.html#returning-a-view-versus-a-copy\n",
            "  isetter(loc, value)\n"
          ]
        }
      ]
    },
    {
      "cell_type": "code",
      "metadata": {
        "colab": {
          "base_uri": "https://localhost:8080/",
          "height": 298
        },
        "id": "3mPXBGwbGKcP",
        "outputId": "ca9750b9-4f64-4f5e-b992-31f91b10d6da"
      },
      "source": [
        "# Plotting the number of placed and non-placed students\n",
        "sns.countplot(data= student_df, x = 'placed_or_not', orient= 'v', hue='gender')"
      ],
      "execution_count": 32,
      "outputs": [
        {
          "output_type": "execute_result",
          "data": {
            "text/plain": [
              "<matplotlib.axes._subplots.AxesSubplot at 0x7f954e064610>"
            ]
          },
          "metadata": {},
          "execution_count": 32
        },
        {
          "output_type": "display_data",
          "data": {
            "image/png": "[encoded data removed]",
            "text/plain": [
              "<Figure size 432x288 with 1 Axes>"
            ]
          },
          "metadata": {
            "needs_background": "light"
          }
        }
      ]
    },
    {
      "cell_type": "code",
      "metadata": {
        "colab": {
          "base_uri": "https://localhost:8080/",
          "height": 297
        },
        "id": "nO74a0_9JOFh",
        "outputId": "460ec57a-97bd-4390-fd9a-aaa5726162f9"
      },
      "source": [
        "# Plotting the number of students based on gender \n",
        "sns.countplot(data= student_df, x = 'gender', orient='v')"
      ],
      "execution_count": 22,
      "outputs": [
        {
          "output_type": "execute_result",
          "data": {
            "text/plain": [
              "<matplotlib.axes._subplots.AxesSubplot at 0x7f954e59fc90>"
            ]
          },
          "metadata": {},
          "execution_count": 22
        },
        {
          "output_type": "display_data",
          "data": {
            "image/png": "[encoded data removed]",
            "text/plain": [
              "<Figure size 432x288 with 1 Axes>"
            ]
          },
          "metadata": {
            "needs_background": "light"
          }
        }
      ]
    },
    {
      "cell_type": "code",
      "metadata": {
        "colab": {
          "base_uri": "https://localhost:8080/",
          "height": 388
        },
        "id": "N_CyToafJpeX",
        "outputId": "c4f89712-61ee-4222-98a4-e4a27039014a"
      },
      "source": [
        "# Plotting the number of studenst based on stream and gender\n",
        "sns.countplot(data= student_df, x = 'stream', orient='v', hue='gender')\n",
        "plt.gcf().set_size_inches(15, 6)"
      ],
      "execution_count": 29,
      "outputs": [
        {
          "output_type": "display_data",
          "data": {
            "image/png": "[encoded data removed]",
            "text/plain": [
              "<Figure size 1080x432 with 1 Axes>"
            ]
          },
          "metadata": {
            "needs_background": "light"
          }
        }
      ]
    },
    {
      "cell_type": "code",
      "metadata": {
        "colab": {
          "base_uri": "https://localhost:8080/",
          "height": 297
        },
        "id": "vqfCuI28JsQQ",
        "outputId": "e04b6fb5-b8dd-4114-81ed-a518046fb9a2"
      },
      "source": [
        "# Plotting the number of studenst based on age and gender\n",
        "sns.countplot(data= student_df, x = 'age', orient= 'v', hue='gender')"
      ],
      "execution_count": 31,
      "outputs": [
        {
          "output_type": "execute_result",
          "data": {
            "text/plain": [
              "<matplotlib.axes._subplots.AxesSubplot at 0x7f954e18fb10>"
            ]
          },
          "metadata": {},
          "execution_count": 31
        },
        {
          "output_type": "display_data",
          "data": {
            "image/png": "[encoded data removed]",
            "text/plain": [
              "<Figure size 432x288 with 1 Axes>"
            ]
          },
          "metadata": {
            "needs_background": "light"
          }
        }
      ]
    },
    {
      "cell_type": "code",
      "metadata": {
        "colab": {
          "base_uri": "https://localhost:8080/",
          "height": 298
        },
        "id": "TGpy-rUBKQsp",
        "outputId": "c16e78de-d915-4c75-d331-337748541184"
      },
      "source": [
        "# Plotting the number of studenst based on the number of internships and placement status\n",
        "sns.countplot(data= student_df, x = 'internships', orient= 'v', hue='placed_or_not')"
      ],
      "execution_count": 33,
      "outputs": [
        {
          "output_type": "execute_result",
          "data": {
            "text/plain": [
              "<matplotlib.axes._subplots.AxesSubplot at 0x7f954dfd6e10>"
            ]
          },
          "metadata": {},
          "execution_count": 33
        },
        {
          "output_type": "display_data",
          "data": {
            "image/png": "[encoded data removed]",
            "text/plain": [
              "<Figure size 432x288 with 1 Axes>"
            ]
          },
          "metadata": {
            "needs_background": "light"
          }
        }
      ]
    },
    {
      "cell_type": "code",
      "metadata": {
        "id": "iEg6iNWLKUF5"
      },
      "source": [
        ""
      ],
      "execution_count": 15,
      "outputs": []
    }
  ]
}