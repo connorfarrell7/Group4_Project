{
  "nbformat": 4,
  "nbformat_minor": 0,
  "metadata": {
    "colab": {
      "name": "predicting_placements_for_engineering_students.ipynb",
      "provenance": [],
      "include_colab_link": true
    },
    "kernelspec": {
      "name": "python3",
      "display_name": "Python 3"
    },
    "language_info": {
      "name": "python"
    }
  },
  "cells": [
    {
      "cell_type": "markdown",
      "metadata": {
        "id": "view-in-github",
        "colab_type": "text"
      },
      "source": [
        "<a href=\"https://colab.research.google.com/github/connorfarrell7/Predicting_Placements_for_Engineering_Students/blob/mmetwalli96/predicting_placements_for_engineering_students.ipynb\" target=\"_parent\"><img src=\"https://colab.research.google.com/assets/colab-badge.svg\" alt=\"Open In Colab\"/></a>"
      ]
    },
    {
      "cell_type": "code",
      "metadata": {
        "id": "9sQRw1maIacd",
        "colab": {
          "base_uri": "https://localhost:8080/"
        },
        "outputId": "31b38a72-3988-444d-c32f-055fb89c755e"
      },
      "source": [
        " # Importing dependencies\n",
        "import os\n",
        "import getpass\n",
        "import psycopg2\n",
        "import pandas as pd\n",
        "import tensorflow as tf\n",
        "from sklearn.svm import SVC\n",
        "from sklearn.tree import DecisionTreeClassifier\n",
        "from sklearn.ensemble import RandomForestClassifier\n",
        "from sklearn.preprocessing import StandardScaler,OneHotEncoder\n",
        "from sklearn.model_selection import train_test_split\n",
        "from sklearn.metrics import confusion_matrix, accuracy_score, classification_report, plot_confusion_matrix , plot_roc_curve , plot_precision_recall_curve\n",
        "from tensorflow.keras.callbacks import ModelCheckpoint"
      ],
      "execution_count": 1,
      "outputs": [
        {
          "output_type": "stream",
          "name": "stderr",
          "text": [
            "/usr/local/lib/python3.7/dist-packages/psycopg2/__init__.py:144: UserWarning: The psycopg2 wheel package will be renamed from release 2.8; in order to keep installing from binary please use \"pip install psycopg2-binary\" instead. For details see: <http://initd.org/psycopg/docs/install.html#binary-install-from-pypi>.\n",
            "  \"\"\")\n"
          ]
        }
      ]
    },
    {
      "cell_type": "code",
      "metadata": {
        "id": "Wjx7klejJoGk",
        "colab": {
          "base_uri": "https://localhost:8080/"
        },
        "outputId": "eaa184bc-ddb8-4610-979b-76570b8bdb83"
      },
      "source": [
        "# Connect to the database\n",
        "server_pass = getpass.getpass('Enter database password: ')\n",
        "engine = psycopg2.connect(\n",
        "    database=\"postgres\",\n",
        "    user=\"group_4\",\n",
        "    password=server_pass,\n",
        "    host=\"capstone-project.c9uk6piofxnr.us-east-2.rds.amazonaws.com\",\n",
        "    port='5432'\n",
        ")"
      ],
      "execution_count": 2,
      "outputs": [
        {
          "name": "stdout",
          "output_type": "stream",
          "text": [
            "Enter database password: ··········\n"
          ]
        }
      ]
    },
    {
      "cell_type": "code",
      "metadata": {
        "colab": {
          "base_uri": "https://localhost:8080/",
          "height": 203
        },
        "id": "udMzHUy6LA19",
        "outputId": "fe4abd97-f221-4c4f-f707-af743843b7b8"
      },
      "source": [
        "# Importing the data from the databse \n",
        "sql = \"select * from student_data\"\n",
        "student_records_df = pd.read_sql_query(sql, engine)\n",
        "student_records_df.head()"
      ],
      "execution_count": 3,
      "outputs": [
        {
          "output_type": "execute_result",
          "data": {
            "text/html": [
              "<div>\n",
              "<style scoped>\n",
              "    .dataframe tbody tr th:only-of-type {\n",
              "        vertical-align: middle;\n",
              "    }\n",
              "\n",
              "    .dataframe tbody tr th {\n",
              "        vertical-align: top;\n",
              "    }\n",
              "\n",
              "    .dataframe thead th {\n",
              "        text-align: right;\n",
              "    }\n",
              "</style>\n",
              "<table border=\"1\" class=\"dataframe\">\n",
              "  <thead>\n",
              "    <tr style=\"text-align: right;\">\n",
              "      <th></th>\n",
              "      <th>age</th>\n",
              "      <th>gender</th>\n",
              "      <th>stream</th>\n",
              "      <th>internships</th>\n",
              "      <th>cgpa</th>\n",
              "      <th>hostel</th>\n",
              "      <th>history_of_backlogs</th>\n",
              "      <th>placed_or_not</th>\n",
              "      <th>id</th>\n",
              "    </tr>\n",
              "  </thead>\n",
              "  <tbody>\n",
              "    <tr>\n",
              "      <th>0</th>\n",
              "      <td>22</td>\n",
              "      <td>Male</td>\n",
              "      <td>Electronics And Communication</td>\n",
              "      <td>1</td>\n",
              "      <td>8</td>\n",
              "      <td>1</td>\n",
              "      <td>1</td>\n",
              "      <td>1</td>\n",
              "      <td>1</td>\n",
              "    </tr>\n",
              "    <tr>\n",
              "      <th>1</th>\n",
              "      <td>21</td>\n",
              "      <td>Female</td>\n",
              "      <td>Computer Science</td>\n",
              "      <td>0</td>\n",
              "      <td>7</td>\n",
              "      <td>1</td>\n",
              "      <td>1</td>\n",
              "      <td>1</td>\n",
              "      <td>2</td>\n",
              "    </tr>\n",
              "    <tr>\n",
              "      <th>2</th>\n",
              "      <td>22</td>\n",
              "      <td>Female</td>\n",
              "      <td>Information Technology</td>\n",
              "      <td>1</td>\n",
              "      <td>6</td>\n",
              "      <td>0</td>\n",
              "      <td>0</td>\n",
              "      <td>1</td>\n",
              "      <td>3</td>\n",
              "    </tr>\n",
              "    <tr>\n",
              "      <th>3</th>\n",
              "      <td>21</td>\n",
              "      <td>Male</td>\n",
              "      <td>Information Technology</td>\n",
              "      <td>0</td>\n",
              "      <td>8</td>\n",
              "      <td>0</td>\n",
              "      <td>1</td>\n",
              "      <td>1</td>\n",
              "      <td>4</td>\n",
              "    </tr>\n",
              "    <tr>\n",
              "      <th>4</th>\n",
              "      <td>22</td>\n",
              "      <td>Male</td>\n",
              "      <td>Mechanical</td>\n",
              "      <td>0</td>\n",
              "      <td>8</td>\n",
              "      <td>1</td>\n",
              "      <td>0</td>\n",
              "      <td>1</td>\n",
              "      <td>5</td>\n",
              "    </tr>\n",
              "  </tbody>\n",
              "</table>\n",
              "</div>"
            ],
            "text/plain": [
              "   age  gender  ... placed_or_not  id\n",
              "0   22    Male  ...             1   1\n",
              "1   21  Female  ...             1   2\n",
              "2   22  Female  ...             1   3\n",
              "3   21    Male  ...             1   4\n",
              "4   22    Male  ...             1   5\n",
              "\n",
              "[5 rows x 9 columns]"
            ]
          },
          "metadata": {},
          "execution_count": 3
        }
      ]
    },
    {
      "cell_type": "code",
      "metadata": {
        "id": "Kk9c3RGEDVAW"
      },
      "source": [
        "student_records_df = student_records_df.drop('id', axis=1)"
      ],
      "execution_count": 5,
      "outputs": []
    },
    {
      "cell_type": "code",
      "metadata": {
        "id": "Sp8EH5Z6NR3c"
      },
      "source": [
        "# Generate categorical variable list\n",
        "cat_columns = student_records_df.dtypes[student_records_df.dtypes == \"object\"].index.tolist()"
      ],
      "execution_count": 6,
      "outputs": []
    },
    {
      "cell_type": "code",
      "metadata": {
        "colab": {
          "base_uri": "https://localhost:8080/",
          "height": 220
        },
        "id": "nMV0W00ZDgml",
        "outputId": "bf97dbef-aafa-47ae-cd27-57c4d529be87"
      },
      "source": [
        "# Create a OneHotEncoder instance\n",
        "enc = OneHotEncoder(sparse=False)\n",
        "\n",
        "# Fit and transform the OneHotEncoder using the categorical variable list\n",
        "encode_df = pd.DataFrame(enc.fit_transform(student_records_df[cat_columns].values.reshape(-2,2)))\n",
        "\n",
        "# Add the encoded variable names to the dataframe\n",
        "encode_df.columns = enc.get_feature_names(cat_columns)\n",
        "encode_df.head()"
      ],
      "execution_count": 7,
      "outputs": [
        {
          "output_type": "execute_result",
          "data": {
            "text/html": [
              "<div>\n",
              "<style scoped>\n",
              "    .dataframe tbody tr th:only-of-type {\n",
              "        vertical-align: middle;\n",
              "    }\n",
              "\n",
              "    .dataframe tbody tr th {\n",
              "        vertical-align: top;\n",
              "    }\n",
              "\n",
              "    .dataframe thead th {\n",
              "        text-align: right;\n",
              "    }\n",
              "</style>\n",
              "<table border=\"1\" class=\"dataframe\">\n",
              "  <thead>\n",
              "    <tr style=\"text-align: right;\">\n",
              "      <th></th>\n",
              "      <th>gender_Female</th>\n",
              "      <th>gender_Male</th>\n",
              "      <th>stream_Civil</th>\n",
              "      <th>stream_Computer Science</th>\n",
              "      <th>stream_Electrical</th>\n",
              "      <th>stream_Electronics And Communication</th>\n",
              "      <th>stream_Information Technology</th>\n",
              "      <th>stream_Mechanical</th>\n",
              "    </tr>\n",
              "  </thead>\n",
              "  <tbody>\n",
              "    <tr>\n",
              "      <th>0</th>\n",
              "      <td>0.0</td>\n",
              "      <td>1.0</td>\n",
              "      <td>0.0</td>\n",
              "      <td>0.0</td>\n",
              "      <td>0.0</td>\n",
              "      <td>1.0</td>\n",
              "      <td>0.0</td>\n",
              "      <td>0.0</td>\n",
              "    </tr>\n",
              "    <tr>\n",
              "      <th>1</th>\n",
              "      <td>1.0</td>\n",
              "      <td>0.0</td>\n",
              "      <td>0.0</td>\n",
              "      <td>1.0</td>\n",
              "      <td>0.0</td>\n",
              "      <td>0.0</td>\n",
              "      <td>0.0</td>\n",
              "      <td>0.0</td>\n",
              "    </tr>\n",
              "    <tr>\n",
              "      <th>2</th>\n",
              "      <td>1.0</td>\n",
              "      <td>0.0</td>\n",
              "      <td>0.0</td>\n",
              "      <td>0.0</td>\n",
              "      <td>0.0</td>\n",
              "      <td>0.0</td>\n",
              "      <td>1.0</td>\n",
              "      <td>0.0</td>\n",
              "    </tr>\n",
              "    <tr>\n",
              "      <th>3</th>\n",
              "      <td>0.0</td>\n",
              "      <td>1.0</td>\n",
              "      <td>0.0</td>\n",
              "      <td>0.0</td>\n",
              "      <td>0.0</td>\n",
              "      <td>0.0</td>\n",
              "      <td>1.0</td>\n",
              "      <td>0.0</td>\n",
              "    </tr>\n",
              "    <tr>\n",
              "      <th>4</th>\n",
              "      <td>0.0</td>\n",
              "      <td>1.0</td>\n",
              "      <td>0.0</td>\n",
              "      <td>0.0</td>\n",
              "      <td>0.0</td>\n",
              "      <td>0.0</td>\n",
              "      <td>0.0</td>\n",
              "      <td>1.0</td>\n",
              "    </tr>\n",
              "  </tbody>\n",
              "</table>\n",
              "</div>"
            ],
            "text/plain": [
              "   gender_Female  gender_Male  ...  stream_Information Technology  stream_Mechanical\n",
              "0            0.0          1.0  ...                            0.0                0.0\n",
              "1            1.0          0.0  ...                            0.0                0.0\n",
              "2            1.0          0.0  ...                            1.0                0.0\n",
              "3            0.0          1.0  ...                            1.0                0.0\n",
              "4            0.0          1.0  ...                            0.0                1.0\n",
              "\n",
              "[5 rows x 8 columns]"
            ]
          },
          "metadata": {},
          "execution_count": 7
        }
      ]
    },
    {
      "cell_type": "code",
      "metadata": {
        "colab": {
          "base_uri": "https://localhost:8080/",
          "height": 240
        },
        "id": "9wUM73PKFNTk",
        "outputId": "cd4910fe-52ce-49db-8fe4-22d9f42dc0bd"
      },
      "source": [
        "ml_df = student_records_df.merge(encode_df,left_index=True,right_index=True).drop(cat_columns,1)\n",
        "ml_df.head()"
      ],
      "execution_count": 8,
      "outputs": [
        {
          "output_type": "execute_result",
          "data": {
            "text/html": [
              "<div>\n",
              "<style scoped>\n",
              "    .dataframe tbody tr th:only-of-type {\n",
              "        vertical-align: middle;\n",
              "    }\n",
              "\n",
              "    .dataframe tbody tr th {\n",
              "        vertical-align: top;\n",
              "    }\n",
              "\n",
              "    .dataframe thead th {\n",
              "        text-align: right;\n",
              "    }\n",
              "</style>\n",
              "<table border=\"1\" class=\"dataframe\">\n",
              "  <thead>\n",
              "    <tr style=\"text-align: right;\">\n",
              "      <th></th>\n",
              "      <th>age</th>\n",
              "      <th>internships</th>\n",
              "      <th>cgpa</th>\n",
              "      <th>hostel</th>\n",
              "      <th>history_of_backlogs</th>\n",
              "      <th>placed_or_not</th>\n",
              "      <th>gender_Female</th>\n",
              "      <th>gender_Male</th>\n",
              "      <th>stream_Civil</th>\n",
              "      <th>stream_Computer Science</th>\n",
              "      <th>stream_Electrical</th>\n",
              "      <th>stream_Electronics And Communication</th>\n",
              "      <th>stream_Information Technology</th>\n",
              "      <th>stream_Mechanical</th>\n",
              "    </tr>\n",
              "  </thead>\n",
              "  <tbody>\n",
              "    <tr>\n",
              "      <th>0</th>\n",
              "      <td>22</td>\n",
              "      <td>1</td>\n",
              "      <td>8</td>\n",
              "      <td>1</td>\n",
              "      <td>1</td>\n",
              "      <td>1</td>\n",
              "      <td>0.0</td>\n",
              "      <td>1.0</td>\n",
              "      <td>0.0</td>\n",
              "      <td>0.0</td>\n",
              "      <td>0.0</td>\n",
              "      <td>1.0</td>\n",
              "      <td>0.0</td>\n",
              "      <td>0.0</td>\n",
              "    </tr>\n",
              "    <tr>\n",
              "      <th>1</th>\n",
              "      <td>21</td>\n",
              "      <td>0</td>\n",
              "      <td>7</td>\n",
              "      <td>1</td>\n",
              "      <td>1</td>\n",
              "      <td>1</td>\n",
              "      <td>1.0</td>\n",
              "      <td>0.0</td>\n",
              "      <td>0.0</td>\n",
              "      <td>1.0</td>\n",
              "      <td>0.0</td>\n",
              "      <td>0.0</td>\n",
              "      <td>0.0</td>\n",
              "      <td>0.0</td>\n",
              "    </tr>\n",
              "    <tr>\n",
              "      <th>2</th>\n",
              "      <td>22</td>\n",
              "      <td>1</td>\n",
              "      <td>6</td>\n",
              "      <td>0</td>\n",
              "      <td>0</td>\n",
              "      <td>1</td>\n",
              "      <td>1.0</td>\n",
              "      <td>0.0</td>\n",
              "      <td>0.0</td>\n",
              "      <td>0.0</td>\n",
              "      <td>0.0</td>\n",
              "      <td>0.0</td>\n",
              "      <td>1.0</td>\n",
              "      <td>0.0</td>\n",
              "    </tr>\n",
              "    <tr>\n",
              "      <th>3</th>\n",
              "      <td>21</td>\n",
              "      <td>0</td>\n",
              "      <td>8</td>\n",
              "      <td>0</td>\n",
              "      <td>1</td>\n",
              "      <td>1</td>\n",
              "      <td>0.0</td>\n",
              "      <td>1.0</td>\n",
              "      <td>0.0</td>\n",
              "      <td>0.0</td>\n",
              "      <td>0.0</td>\n",
              "      <td>0.0</td>\n",
              "      <td>1.0</td>\n",
              "      <td>0.0</td>\n",
              "    </tr>\n",
              "    <tr>\n",
              "      <th>4</th>\n",
              "      <td>22</td>\n",
              "      <td>0</td>\n",
              "      <td>8</td>\n",
              "      <td>1</td>\n",
              "      <td>0</td>\n",
              "      <td>1</td>\n",
              "      <td>0.0</td>\n",
              "      <td>1.0</td>\n",
              "      <td>0.0</td>\n",
              "      <td>0.0</td>\n",
              "      <td>0.0</td>\n",
              "      <td>0.0</td>\n",
              "      <td>0.0</td>\n",
              "      <td>1.0</td>\n",
              "    </tr>\n",
              "  </tbody>\n",
              "</table>\n",
              "</div>"
            ],
            "text/plain": [
              "   age  internships  ...  stream_Information Technology  stream_Mechanical\n",
              "0   22            1  ...                            0.0                0.0\n",
              "1   21            0  ...                            0.0                0.0\n",
              "2   22            1  ...                            1.0                0.0\n",
              "3   21            0  ...                            1.0                0.0\n",
              "4   22            0  ...                            0.0                1.0\n",
              "\n",
              "[5 rows x 14 columns]"
            ]
          },
          "metadata": {},
          "execution_count": 8
        }
      ]
    },
    {
      "cell_type": "code",
      "metadata": {
        "id": "iS7WL9qAFq32"
      },
      "source": [
        "# Split our preprocessed data into our features and target arrays\n",
        "x = ml_df.loc[:, ml_df.columns != 'placed_or_not'].values\n",
        "y = ml_df['placed_or_not'].values\n",
        "\n",
        "# Split the preprocessed data into a training and testing dataset\n",
        "x_train, x_test, y_train, y_test = train_test_split(x, y, test_size = 0.1, random_state = 1)"
      ],
      "execution_count": 18,
      "outputs": []
    },
    {
      "cell_type": "code",
      "metadata": {
        "id": "AwUkiBr0IUn5"
      },
      "source": [
        "# Create a StandardScaler instance\n",
        "scaler = StandardScaler()\n",
        "\n",
        "# Scale the data\n",
        "x_train_scaled = scaler.fit_transform(x_train)\n",
        "x_test_scaled = scaler.fit_transform(x_test)"
      ],
      "execution_count": 19,
      "outputs": []
    },
    {
      "cell_type": "code",
      "metadata": {
        "colab": {
          "base_uri": "https://localhost:8080/"
        },
        "id": "6eLa_7l8MDbS",
        "outputId": "0f9d8fa7-404e-41e8-c34f-ed98b9d3e1ae"
      },
      "source": [
        "# Create the SVM model\n",
        "svm = SVC(kernel='rbf', C=10.0, gamma=\"auto\")\n",
        "\n",
        "# Train the model\n",
        "svm.fit(x_train_scaled, y_train)\n",
        "\n",
        "# Evaluate the model\n",
        "y_pred = svm.predict(x_test_scaled)\n",
        "print(f\" SVM model accuracy: {accuracy_score(y_test,y_pred)*100:.2f}%\")"
      ],
      "execution_count": 33,
      "outputs": [
        {
          "output_type": "stream",
          "name": "stdout",
          "text": [
            " SVM model accuracy: 88.89%\n"
          ]
        }
      ]
    },
    {
      "cell_type": "code",
      "metadata": {
        "colab": {
          "base_uri": "https://localhost:8080/",
          "height": 297
        },
        "id": "LRIrp2oGO817",
        "outputId": "c27ac005-e6f9-44fb-9aa3-56770ff961d6"
      },
      "source": [
        "# Display the confusion matrix\n",
        "confusion_matrix(y_test, y_pred)\n",
        "plot_confusion_matrix(svm, x_test_scaled , y_test)"
      ],
      "execution_count": 22,
      "outputs": [
        {
          "output_type": "execute_result",
          "data": {
            "text/plain": [
              "<sklearn.metrics._plot.confusion_matrix.ConfusionMatrixDisplay at 0x7f17b2cd7a10>"
            ]
          },
          "metadata": {},
          "execution_count": 22
        },
        {
          "output_type": "display_data",
          "data": {
            "image/png": "[encoded data removed]",
            "text/plain": [
              "<Figure size 432x288 with 2 Axes>"
            ]
          },
          "metadata": {
            "needs_background": "light"
          }
        }
      ]
    },
    {
      "cell_type": "code",
      "metadata": {
        "colab": {
          "base_uri": "https://localhost:8080/"
        },
        "id": "NhWeIKKbNWG4",
        "outputId": "bbbfb0af-00c5-48ee-94ca-37f67e730cd3"
      },
      "source": [
        "# Print the imbalanced classification report\n",
        "print(classification_report(y_test, y_pred))"
      ],
      "execution_count": 23,
      "outputs": [
        {
          "output_type": "stream",
          "name": "stdout",
          "text": [
            "              precision    recall  f1-score   support\n",
            "\n",
            "           0       0.82      0.94      0.88       124\n",
            "           1       0.95      0.86      0.90       173\n",
            "\n",
            "    accuracy                           0.89       297\n",
            "   macro avg       0.89      0.90      0.89       297\n",
            "weighted avg       0.90      0.89      0.89       297\n",
            "\n"
          ]
        }
      ]
    },
    {
      "cell_type": "code",
      "metadata": {
        "colab": {
          "base_uri": "https://localhost:8080/"
        },
        "id": "xSS6UktSpr_x",
        "outputId": "e569d56e-c8de-42f8-b95e-0fc06e87235b"
      },
      "source": [
        "# Create Decision Tree Model\n",
        "tree_model = DecisionTreeClassifier(criterion='entropy', splitter='best', max_features='sqrt')\n",
        "\n",
        "# Train the model\n",
        "tree_model.fit(x_train_scaled,y_train)\n",
        "\n",
        "# Evaluate the model\n",
        "y_pred = tree_model.predict(x_test_scaled)\n",
        "print(f\" Decission Tree model accuracy: {accuracy_score(y_test,y_pred)*100:.2f}%\")"
      ],
      "execution_count": 84,
      "outputs": [
        {
          "output_type": "stream",
          "name": "stdout",
          "text": [
            " Decission Tree model accuracy: 88.22%\n"
          ]
        }
      ]
    },
    {
      "cell_type": "code",
      "metadata": {
        "colab": {
          "base_uri": "https://localhost:8080/",
          "height": 297
        },
        "id": "D-ntvtZy7S1c",
        "outputId": "8f6d77a8-9ca4-441c-ac92-33401bec82e6"
      },
      "source": [
        "# Display the confusion matrix\n",
        "confusion_matrix(y_test, y_pred)\n",
        "plot_confusion_matrix(tree_model, x_test_scaled , y_test)"
      ],
      "execution_count": 92,
      "outputs": [
        {
          "output_type": "execute_result",
          "data": {
            "text/plain": [
              "<sklearn.metrics._plot.confusion_matrix.ConfusionMatrixDisplay at 0x7f17ae1ef610>"
            ]
          },
          "metadata": {},
          "execution_count": 92
        },
        {
          "output_type": "display_data",
          "data": {
            "image/png": "[encoded data removed]",
            "text/plain": [
              "<Figure size 432x288 with 2 Axes>"
            ]
          },
          "metadata": {
            "needs_background": "light"
          }
        }
      ]
    },
    {
      "cell_type": "code",
      "metadata": {
        "colab": {
          "base_uri": "https://localhost:8080/"
        },
        "id": "B75Y-e817R2U",
        "outputId": "118aeee0-16d8-4ce1-c8ee-7fcef6eaa144"
      },
      "source": [
        "# Print the imbalanced classification report\n",
        "print(classification_report(y_test, y_pred))"
      ],
      "execution_count": 93,
      "outputs": [
        {
          "output_type": "stream",
          "name": "stdout",
          "text": [
            "              precision    recall  f1-score   support\n",
            "\n",
            "           0       0.83      0.90      0.86       124\n",
            "           1       0.93      0.87      0.90       173\n",
            "\n",
            "    accuracy                           0.88       297\n",
            "   macro avg       0.88      0.89      0.88       297\n",
            "weighted avg       0.89      0.88      0.88       297\n",
            "\n"
          ]
        }
      ]
    },
    {
      "cell_type": "code",
      "metadata": {
        "colab": {
          "base_uri": "https://localhost:8080/"
        },
        "id": "dhTQutdZOx0Z",
        "outputId": "3c9e8fae-d1b8-4581-a944-bf216abf744a"
      },
      "source": [
        "# Define the model - deep neural net, i.e., the number of input features and hidden nodes for each layer.\n",
        "number_input_features = len(ml_df.columns.tolist()) - 1\n",
        "hidden_nodes_layer1 =  5\n",
        "hidden_nodes_layer2 = 3\n",
        "\n",
        "nn = tf.keras.models.Sequential()\n",
        "\n",
        "# First hidden layer\n",
        "nn.add(tf.keras.layers.Dense(units=hidden_nodes_layer1, input_dim=number_input_features, activation=\"relu\"))\n",
        "\n",
        "# Second hidden layer\n",
        "nn.add(tf.keras.layers.Dense(units=hidden_nodes_layer2, activation=\"relu\"))\n",
        "\n",
        "# Output layer\n",
        "nn.add(tf.keras.layers.Dense(units=1, activation=\"sigmoid\"))\n",
        "\n",
        "# Check the structure of the model\n",
        "nn.summary()"
      ],
      "execution_count": 24,
      "outputs": [
        {
          "output_type": "stream",
          "name": "stdout",
          "text": [
            "Model: \"sequential\"\n",
            "_________________________________________________________________\n",
            " Layer (type)                Output Shape              Param #   \n",
            "=================================================================\n",
            " dense (Dense)               (None, 5)                 70        \n",
            "                                                                 \n",
            " dense_1 (Dense)             (None, 3)                 18        \n",
            "                                                                 \n",
            " dense_2 (Dense)             (None, 1)                 4         \n",
            "                                                                 \n",
            "=================================================================\n",
            "Total params: 92\n",
            "Trainable params: 92\n",
            "Non-trainable params: 0\n",
            "_________________________________________________________________\n"
          ]
        }
      ]
    },
    {
      "cell_type": "code",
      "metadata": {
        "id": "DSwqCHifQaK3"
      },
      "source": [
        "# Compile the model\n",
        "nn.compile(loss=\"binary_crossentropy\", optimizer=\"adam\", metrics=[\"accuracy\"])"
      ],
      "execution_count": 25,
      "outputs": []
    },
    {
      "cell_type": "code",
      "metadata": {
        "colab": {
          "base_uri": "https://localhost:8080/"
        },
        "id": "pOTgdD48QjOW",
        "outputId": "bc560ce1-550f-42c2-b9d9-96a18a9d4754"
      },
      "source": [
        "# Define the checkpoint path and filenames\n",
        "os.makedirs(\"Checkpoints/\",exist_ok=True)\n",
        "checkpoint_path = \"Checkpoints/weights.{epoch:03d}.hdf5\"\n",
        "\n",
        "# Create a callback that saves the model's weights every epoch\n",
        "cp_callback = ModelCheckpoint(  \n",
        "    filepath=checkpoint_path,\n",
        "    verbose=1,\n",
        "    period = 5,\n",
        "    save_weights_only=True,\n",
        "    )"
      ],
      "execution_count": 88,
      "outputs": [
        {
          "output_type": "stream",
          "name": "stdout",
          "text": [
            "WARNING:tensorflow:`period` argument is deprecated. Please use `save_freq` to specify the frequency in number of batches seen.\n"
          ]
        }
      ]
    },
    {
      "cell_type": "code",
      "metadata": {
        "colab": {
          "base_uri": "https://localhost:8080/"
        },
        "id": "mfxbT0YtQeIS",
        "outputId": "98414a3d-836e-429d-f67b-336c30950e0d"
      },
      "source": [
        "# Train the model\n",
        "fit_model = nn.fit(x_train_scaled,y_train,epochs=100, callbacks=[cp_callback])"
      ],
      "execution_count": 89,
      "outputs": [
        {
          "output_type": "stream",
          "name": "stdout",
          "text": [
            "Epoch 1/100\n",
            "84/84 [==============================] - 0s 2ms/step - loss: 0.3011 - accuracy: 0.8666\n",
            "Epoch 2/100\n",
            "84/84 [==============================] - 0s 2ms/step - loss: 0.3012 - accuracy: 0.8670\n",
            "Epoch 3/100\n",
            "84/84 [==============================] - 0s 2ms/step - loss: 0.3012 - accuracy: 0.8651\n",
            "Epoch 4/100\n",
            "84/84 [==============================] - 0s 2ms/step - loss: 0.3008 - accuracy: 0.8666\n",
            "Epoch 5/100\n",
            "73/84 [=========================>....] - ETA: 0s - loss: 0.2957 - accuracy: 0.8711\n",
            "Epoch 00005: saving model to Checkpoints/weights.005.hdf5\n",
            "84/84 [==============================] - 0s 2ms/step - loss: 0.3006 - accuracy: 0.8692\n",
            "Epoch 6/100\n",
            "84/84 [==============================] - 0s 2ms/step - loss: 0.3007 - accuracy: 0.8670\n",
            "Epoch 7/100\n",
            "84/84 [==============================] - 0s 2ms/step - loss: 0.3005 - accuracy: 0.8662\n",
            "Epoch 8/100\n",
            "84/84 [==============================] - 0s 2ms/step - loss: 0.3002 - accuracy: 0.8677\n",
            "Epoch 9/100\n",
            "84/84 [==============================] - 0s 2ms/step - loss: 0.3002 - accuracy: 0.8670\n",
            "Epoch 10/100\n",
            "63/84 [=====================>........] - ETA: 0s - loss: 0.2963 - accuracy: 0.8725\n",
            "Epoch 00010: saving model to Checkpoints/weights.010.hdf5\n",
            "84/84 [==============================] - 0s 2ms/step - loss: 0.3001 - accuracy: 0.8715\n",
            "Epoch 11/100\n",
            "84/84 [==============================] - 0s 1ms/step - loss: 0.2997 - accuracy: 0.8685\n",
            "Epoch 12/100\n",
            "84/84 [==============================] - 0s 2ms/step - loss: 0.2996 - accuracy: 0.8677\n",
            "Epoch 13/100\n",
            "84/84 [==============================] - 0s 2ms/step - loss: 0.2997 - accuracy: 0.8644\n",
            "Epoch 14/100\n",
            "84/84 [==============================] - 0s 2ms/step - loss: 0.2993 - accuracy: 0.8670\n",
            "Epoch 15/100\n",
            "66/84 [======================>.......] - ETA: 0s - loss: 0.3011 - accuracy: 0.8670\n",
            "Epoch 00015: saving model to Checkpoints/weights.015.hdf5\n",
            "84/84 [==============================] - 0s 2ms/step - loss: 0.2994 - accuracy: 0.8677\n",
            "Epoch 16/100\n",
            "84/84 [==============================] - 0s 2ms/step - loss: 0.2993 - accuracy: 0.8677\n",
            "Epoch 17/100\n",
            "84/84 [==============================] - 0s 2ms/step - loss: 0.2994 - accuracy: 0.8692\n",
            "Epoch 18/100\n",
            "84/84 [==============================] - 0s 2ms/step - loss: 0.2995 - accuracy: 0.8677\n",
            "Epoch 19/100\n",
            "84/84 [==============================] - 0s 2ms/step - loss: 0.2997 - accuracy: 0.8674\n",
            "Epoch 20/100\n",
            "69/84 [=======================>......] - ETA: 0s - loss: 0.2937 - accuracy: 0.8709\n",
            "Epoch 00020: saving model to Checkpoints/weights.020.hdf5\n",
            "84/84 [==============================] - 0s 2ms/step - loss: 0.2990 - accuracy: 0.8685\n",
            "Epoch 21/100\n",
            "84/84 [==============================] - 0s 2ms/step - loss: 0.2987 - accuracy: 0.8685\n",
            "Epoch 22/100\n",
            "84/84 [==============================] - 0s 2ms/step - loss: 0.2989 - accuracy: 0.8666\n",
            "Epoch 23/100\n",
            "84/84 [==============================] - 0s 2ms/step - loss: 0.2982 - accuracy: 0.8666\n",
            "Epoch 24/100\n",
            "84/84 [==============================] - 0s 2ms/step - loss: 0.2984 - accuracy: 0.8677\n",
            "Epoch 25/100\n",
            "67/84 [======================>.......] - ETA: 0s - loss: 0.2996 - accuracy: 0.8671\n",
            "Epoch 00025: saving model to Checkpoints/weights.025.hdf5\n",
            "84/84 [==============================] - 0s 2ms/step - loss: 0.2981 - accuracy: 0.8689\n",
            "Epoch 26/100\n",
            "84/84 [==============================] - 0s 2ms/step - loss: 0.2980 - accuracy: 0.8685\n",
            "Epoch 27/100\n",
            "84/84 [==============================] - 0s 2ms/step - loss: 0.2978 - accuracy: 0.8696\n",
            "Epoch 28/100\n",
            "84/84 [==============================] - 0s 2ms/step - loss: 0.2979 - accuracy: 0.8692\n",
            "Epoch 29/100\n",
            "84/84 [==============================] - 0s 1ms/step - loss: 0.2978 - accuracy: 0.8700\n",
            "Epoch 30/100\n",
            "71/84 [========================>.....] - ETA: 0s - loss: 0.2964 - accuracy: 0.8719\n",
            "Epoch 00030: saving model to Checkpoints/weights.030.hdf5\n",
            "84/84 [==============================] - 0s 2ms/step - loss: 0.2975 - accuracy: 0.8700\n",
            "Epoch 31/100\n",
            "84/84 [==============================] - 0s 2ms/step - loss: 0.2974 - accuracy: 0.8696\n",
            "Epoch 32/100\n",
            "84/84 [==============================] - 0s 2ms/step - loss: 0.2979 - accuracy: 0.8700\n",
            "Epoch 33/100\n",
            "84/84 [==============================] - 0s 2ms/step - loss: 0.2974 - accuracy: 0.8730\n",
            "Epoch 34/100\n",
            "84/84 [==============================] - 0s 1ms/step - loss: 0.2977 - accuracy: 0.8692\n",
            "Epoch 35/100\n",
            "70/84 [========================>.....] - ETA: 0s - loss: 0.3001 - accuracy: 0.8719\n",
            "Epoch 00035: saving model to Checkpoints/weights.035.hdf5\n",
            "84/84 [==============================] - 0s 2ms/step - loss: 0.2972 - accuracy: 0.8734\n",
            "Epoch 36/100\n",
            "84/84 [==============================] - 0s 2ms/step - loss: 0.2975 - accuracy: 0.8692\n",
            "Epoch 37/100\n",
            "84/84 [==============================] - 0s 1ms/step - loss: 0.2968 - accuracy: 0.8722\n",
            "Epoch 38/100\n",
            "84/84 [==============================] - 0s 2ms/step - loss: 0.2968 - accuracy: 0.8734\n",
            "Epoch 39/100\n",
            "84/84 [==============================] - 0s 2ms/step - loss: 0.2971 - accuracy: 0.8726\n",
            "Epoch 40/100\n",
            "70/84 [========================>.....] - ETA: 0s - loss: 0.2841 - accuracy: 0.8808\n",
            "Epoch 00040: saving model to Checkpoints/weights.040.hdf5\n",
            "84/84 [==============================] - 0s 2ms/step - loss: 0.2964 - accuracy: 0.8734\n",
            "Epoch 41/100\n",
            "84/84 [==============================] - 0s 2ms/step - loss: 0.2963 - accuracy: 0.8745\n",
            "Epoch 42/100\n",
            "84/84 [==============================] - 0s 2ms/step - loss: 0.2968 - accuracy: 0.8711\n",
            "Epoch 43/100\n",
            "84/84 [==============================] - 0s 2ms/step - loss: 0.2966 - accuracy: 0.8737\n",
            "Epoch 44/100\n",
            "84/84 [==============================] - 0s 2ms/step - loss: 0.2961 - accuracy: 0.8764\n",
            "Epoch 45/100\n",
            "67/84 [======================>.......] - ETA: 0s - loss: 0.3007 - accuracy: 0.8699\n",
            "Epoch 00045: saving model to Checkpoints/weights.045.hdf5\n",
            "84/84 [==============================] - 0s 2ms/step - loss: 0.2963 - accuracy: 0.8726\n",
            "Epoch 46/100\n",
            "84/84 [==============================] - 0s 2ms/step - loss: 0.2962 - accuracy: 0.8767\n",
            "Epoch 47/100\n",
            "84/84 [==============================] - 0s 2ms/step - loss: 0.2964 - accuracy: 0.8782\n",
            "Epoch 48/100\n",
            "84/84 [==============================] - 0s 2ms/step - loss: 0.2959 - accuracy: 0.8756\n",
            "Epoch 49/100\n",
            "84/84 [==============================] - 0s 2ms/step - loss: 0.2961 - accuracy: 0.8741\n",
            "Epoch 50/100\n",
            "79/84 [===========================>..] - ETA: 0s - loss: 0.2956 - accuracy: 0.8742\n",
            "Epoch 00050: saving model to Checkpoints/weights.050.hdf5\n",
            "84/84 [==============================] - 0s 2ms/step - loss: 0.2963 - accuracy: 0.8749\n",
            "Epoch 51/100\n",
            "84/84 [==============================] - 0s 2ms/step - loss: 0.2960 - accuracy: 0.8741\n",
            "Epoch 52/100\n",
            "84/84 [==============================] - 0s 2ms/step - loss: 0.2959 - accuracy: 0.8760\n",
            "Epoch 53/100\n",
            "84/84 [==============================] - 0s 2ms/step - loss: 0.2961 - accuracy: 0.8760\n",
            "Epoch 54/100\n",
            "84/84 [==============================] - 0s 2ms/step - loss: 0.2957 - accuracy: 0.8741\n",
            "Epoch 55/100\n",
            "64/84 [=====================>........] - ETA: 0s - loss: 0.2834 - accuracy: 0.8828\n",
            "Epoch 00055: saving model to Checkpoints/weights.055.hdf5\n",
            "84/84 [==============================] - 0s 2ms/step - loss: 0.2959 - accuracy: 0.8745\n",
            "Epoch 56/100\n",
            "84/84 [==============================] - 0s 2ms/step - loss: 0.2960 - accuracy: 0.8760\n",
            "Epoch 57/100\n",
            "84/84 [==============================] - 0s 2ms/step - loss: 0.2960 - accuracy: 0.8760\n",
            "Epoch 58/100\n",
            "84/84 [==============================] - 0s 2ms/step - loss: 0.2957 - accuracy: 0.8741\n",
            "Epoch 59/100\n",
            "84/84 [==============================] - 0s 2ms/step - loss: 0.2954 - accuracy: 0.8749\n",
            "Epoch 60/100\n",
            "67/84 [======================>.......] - ETA: 0s - loss: 0.2908 - accuracy: 0.8811\n",
            "Epoch 00060: saving model to Checkpoints/weights.060.hdf5\n",
            "84/84 [==============================] - 0s 2ms/step - loss: 0.2960 - accuracy: 0.8771\n",
            "Epoch 61/100\n",
            "84/84 [==============================] - 0s 2ms/step - loss: 0.2956 - accuracy: 0.8767\n",
            "Epoch 62/100\n",
            "84/84 [==============================] - 0s 2ms/step - loss: 0.2960 - accuracy: 0.8756\n",
            "Epoch 63/100\n",
            "84/84 [==============================] - 0s 2ms/step - loss: 0.2953 - accuracy: 0.8752\n",
            "Epoch 64/100\n",
            "84/84 [==============================] - 0s 2ms/step - loss: 0.2956 - accuracy: 0.8749\n",
            "Epoch 65/100\n",
            "62/84 [=====================>........] - ETA: 0s - loss: 0.2943 - accuracy: 0.8760\n",
            "Epoch 00065: saving model to Checkpoints/weights.065.hdf5\n",
            "84/84 [==============================] - 0s 2ms/step - loss: 0.2955 - accuracy: 0.8767\n",
            "Epoch 66/100\n",
            "84/84 [==============================] - 0s 2ms/step - loss: 0.2956 - accuracy: 0.8726\n",
            "Epoch 67/100\n",
            "84/84 [==============================] - 0s 2ms/step - loss: 0.2953 - accuracy: 0.8741\n",
            "Epoch 68/100\n",
            "84/84 [==============================] - 0s 2ms/step - loss: 0.2954 - accuracy: 0.8767\n",
            "Epoch 69/100\n",
            "84/84 [==============================] - 0s 2ms/step - loss: 0.2958 - accuracy: 0.8764\n",
            "Epoch 70/100\n",
            "71/84 [========================>.....] - ETA: 0s - loss: 0.2965 - accuracy: 0.8768\n",
            "Epoch 00070: saving model to Checkpoints/weights.070.hdf5\n",
            "84/84 [==============================] - 0s 2ms/step - loss: 0.2952 - accuracy: 0.8756\n",
            "Epoch 71/100\n",
            "84/84 [==============================] - 0s 2ms/step - loss: 0.2955 - accuracy: 0.8756\n",
            "Epoch 72/100\n",
            "84/84 [==============================] - 0s 2ms/step - loss: 0.2956 - accuracy: 0.8767\n",
            "Epoch 73/100\n",
            "84/84 [==============================] - 0s 2ms/step - loss: 0.2952 - accuracy: 0.8756\n",
            "Epoch 74/100\n",
            "84/84 [==============================] - 0s 2ms/step - loss: 0.2952 - accuracy: 0.8730\n",
            "Epoch 75/100\n",
            "70/84 [========================>.....] - ETA: 0s - loss: 0.2883 - accuracy: 0.8786\n",
            "Epoch 00075: saving model to Checkpoints/weights.075.hdf5\n",
            "84/84 [==============================] - 0s 2ms/step - loss: 0.2958 - accuracy: 0.8745\n",
            "Epoch 76/100\n",
            "84/84 [==============================] - 0s 2ms/step - loss: 0.2951 - accuracy: 0.8764\n",
            "Epoch 77/100\n",
            "84/84 [==============================] - 0s 2ms/step - loss: 0.2948 - accuracy: 0.8730\n",
            "Epoch 78/100\n",
            "84/84 [==============================] - 0s 2ms/step - loss: 0.2953 - accuracy: 0.8752\n",
            "Epoch 79/100\n",
            "84/84 [==============================] - 0s 2ms/step - loss: 0.2951 - accuracy: 0.8737\n",
            "Epoch 80/100\n",
            "61/84 [====================>.........] - ETA: 0s - loss: 0.2989 - accuracy: 0.8735\n",
            "Epoch 00080: saving model to Checkpoints/weights.080.hdf5\n",
            "84/84 [==============================] - 0s 2ms/step - loss: 0.2948 - accuracy: 0.8752\n",
            "Epoch 81/100\n",
            "84/84 [==============================] - 0s 2ms/step - loss: 0.2953 - accuracy: 0.8722\n",
            "Epoch 82/100\n",
            "84/84 [==============================] - 0s 1ms/step - loss: 0.2948 - accuracy: 0.8767\n",
            "Epoch 83/100\n",
            "84/84 [==============================] - 0s 2ms/step - loss: 0.2952 - accuracy: 0.8767\n",
            "Epoch 84/100\n",
            "84/84 [==============================] - 0s 2ms/step - loss: 0.2949 - accuracy: 0.8737\n",
            "Epoch 85/100\n",
            "72/84 [========================>.....] - ETA: 0s - loss: 0.2976 - accuracy: 0.8741\n",
            "Epoch 00085: saving model to Checkpoints/weights.085.hdf5\n",
            "84/84 [==============================] - 0s 2ms/step - loss: 0.2948 - accuracy: 0.8767\n",
            "Epoch 86/100\n",
            "84/84 [==============================] - 0s 2ms/step - loss: 0.2948 - accuracy: 0.8749\n",
            "Epoch 87/100\n",
            "84/84 [==============================] - 0s 1ms/step - loss: 0.2948 - accuracy: 0.8749\n",
            "Epoch 88/100\n",
            "84/84 [==============================] - 0s 1ms/step - loss: 0.2951 - accuracy: 0.8730\n",
            "Epoch 89/100\n",
            "84/84 [==============================] - 0s 1ms/step - loss: 0.2948 - accuracy: 0.8756\n",
            "Epoch 90/100\n",
            "67/84 [======================>.......] - ETA: 0s - loss: 0.2948 - accuracy: 0.8783\n",
            "Epoch 00090: saving model to Checkpoints/weights.090.hdf5\n",
            "84/84 [==============================] - 0s 2ms/step - loss: 0.2944 - accuracy: 0.8775\n",
            "Epoch 91/100\n",
            "84/84 [==============================] - 0s 2ms/step - loss: 0.2950 - accuracy: 0.8715\n",
            "Epoch 92/100\n",
            "84/84 [==============================] - 0s 2ms/step - loss: 0.2943 - accuracy: 0.8745\n",
            "Epoch 93/100\n",
            "84/84 [==============================] - 0s 2ms/step - loss: 0.2946 - accuracy: 0.8741\n",
            "Epoch 94/100\n",
            "84/84 [==============================] - 0s 2ms/step - loss: 0.2950 - accuracy: 0.8775\n",
            "Epoch 95/100\n",
            "76/84 [==========================>...] - ETA: 0s - loss: 0.2973 - accuracy: 0.8754\n",
            "Epoch 00095: saving model to Checkpoints/weights.095.hdf5\n",
            "84/84 [==============================] - 0s 2ms/step - loss: 0.2948 - accuracy: 0.8775\n",
            "Epoch 96/100\n",
            "84/84 [==============================] - 0s 2ms/step - loss: 0.2944 - accuracy: 0.8756\n",
            "Epoch 97/100\n",
            "84/84 [==============================] - 0s 1ms/step - loss: 0.2946 - accuracy: 0.8752\n",
            "Epoch 98/100\n",
            "84/84 [==============================] - 0s 2ms/step - loss: 0.2943 - accuracy: 0.8741\n",
            "Epoch 99/100\n",
            "84/84 [==============================] - 0s 1ms/step - loss: 0.2945 - accuracy: 0.8764\n",
            "Epoch 100/100\n",
            "70/84 [========================>.....] - ETA: 0s - loss: 0.2866 - accuracy: 0.8813\n",
            "Epoch 00100: saving model to Checkpoints/weights.100.hdf5\n",
            "84/84 [==============================] - 0s 2ms/step - loss: 0.2945 - accuracy: 0.8760\n"
          ]
        }
      ]
    },
    {
      "cell_type": "code",
      "metadata": {
        "colab": {
          "base_uri": "https://localhost:8080/"
        },
        "id": "9iwq-tLQQ-1i",
        "outputId": "553ff904-5ac6-4432-924e-a08e434b6727"
      },
      "source": [
        "# Evaluate the model using the test data\n",
        "model_loss, model_accuracy = nn.evaluate(x_test_scaled,y_test,verbose=2)\n",
        "print(f\"Loss: {model_loss:.4f}, Accuracy: {model_accuracy:.4}\")"
      ],
      "execution_count": 90,
      "outputs": [
        {
          "output_type": "stream",
          "name": "stdout",
          "text": [
            "10/10 - 0s - loss: 0.2661 - accuracy: 0.8855 - 26ms/epoch - 3ms/step\n",
            "Loss: 0.2661, Accuracy: 0.8855\n"
          ]
        }
      ]
    },
    {
      "cell_type": "code",
      "metadata": {
        "id": "97g6KZBoRMBo"
      },
      "source": [
        "# Export our model to HDF5 file\n",
        "nn.save(\"student_prediction_model.h5\")"
      ],
      "execution_count": 91,
      "outputs": []
    },
    {
      "cell_type": "code",
      "metadata": {
        "id": "H1yeG84u7Mrj"
      },
      "source": [
        ""
      ],
      "execution_count": null,
      "outputs": []
    }
  ]
}